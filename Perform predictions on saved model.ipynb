{
 "cells": [
  {
   "cell_type": "code",
   "execution_count": 1,
   "metadata": {},
   "outputs": [],
   "source": [
    "import tensorflow as tf\n",
    "from tensorflow import keras\n",
    "\n",
    "from pickle import load\n",
    "from sklearn.preprocessing import StandardScaler\n",
    "\n",
    "import Functions_database as fd"
   ]
  },
  {
   "cell_type": "code",
   "execution_count": 2,
   "metadata": {},
   "outputs": [
    {
     "name": "stdout",
     "output_type": "stream",
     "text": [
      "Model: \"sequential_30\"\n",
      "_________________________________________________________________\n",
      "Layer (type)                 Output Shape              Param #   \n",
      "=================================================================\n",
      "dense_142 (Dense)            (None, 110)               4290      \n",
      "_________________________________________________________________\n",
      "dropout_112 (Dropout)        (None, 110)               0         \n",
      "_________________________________________________________________\n",
      "dense_143 (Dense)            (None, 110)               12210     \n",
      "_________________________________________________________________\n",
      "dropout_113 (Dropout)        (None, 110)               0         \n",
      "_________________________________________________________________\n",
      "dense_144 (Dense)            (None, 110)               12210     \n",
      "_________________________________________________________________\n",
      "dropout_114 (Dropout)        (None, 110)               0         \n",
      "_________________________________________________________________\n",
      "dense_145 (Dense)            (None, 1)                 111       \n",
      "=================================================================\n",
      "Total params: 28,821\n",
      "Trainable params: 28,821\n",
      "Non-trainable params: 0\n",
      "_________________________________________________________________\n"
     ]
    }
   ],
   "source": [
    "scaler = load(open('scaler.pkl', 'rb'))\n",
    "loaded_model = tf.keras.models.load_model('saved_model/my_model')\n",
    "\n",
    "# Check its architecture\n",
    "loaded_model.summary()"
   ]
  },
  {
   "cell_type": "code",
   "execution_count": 3,
   "metadata": {},
   "outputs": [
    {
     "data": {
      "text/plain": [
       "array([[314.69562]], dtype=float32)"
      ]
     },
     "execution_count": 3,
     "metadata": {},
     "output_type": "execute_result"
    }
   ],
   "source": [
    "fd.easy_prediction('Ti70Nb30', 'AC', scaler, loaded_model)"
   ]
  },
  {
   "cell_type": "code",
   "execution_count": null,
   "metadata": {},
   "outputs": [],
   "source": []
  }
 ],
 "metadata": {
  "kernelspec": {
   "display_name": "Python 3",
   "language": "python",
   "name": "python3"
  },
  "language_info": {
   "codemirror_mode": {
    "name": "ipython",
    "version": 3
   },
   "file_extension": ".py",
   "mimetype": "text/x-python",
   "name": "python",
   "nbconvert_exporter": "python",
   "pygments_lexer": "ipython3",
   "version": "3.7.9"
  }
 },
 "nbformat": 4,
 "nbformat_minor": 4
}
