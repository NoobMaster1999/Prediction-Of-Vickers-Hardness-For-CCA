{
 "cells": [
  {
   "cell_type": "code",
   "execution_count": 1,
   "metadata": {
    "id": "d0CJseto0LYu"
   },
   "outputs": [],
   "source": [
    "import matplotlib.pyplot as plt\n",
    "import numpy as np\n",
    "import pandas as pd\n",
    "import seaborn as sns\n",
    "import tensorflow as tf\n",
    "\n",
    "from tensorflow import keras\n",
    "from tensorflow.keras import layers\n",
    "from tensorflow.keras import regularizers\n",
    "\n",
    "from sklearn.preprocessing import StandardScaler\n",
    "from sklearn.model_selection import train_test_split\n",
    "\n",
    "\n",
    "from pickle import dump"
   ]
  },
  {
   "cell_type": "code",
   "execution_count": 2,
   "metadata": {
    "id": "HGU71w0e0LYv"
   },
   "outputs": [],
   "source": [
    "import tensorflow_docs as tfdocs\n",
    "import tensorflow_docs.plots\n",
    "import tensorflow_docs.modeling"
   ]
  },
  {
   "cell_type": "code",
   "execution_count": 3,
   "metadata": {
    "colab": {
     "base_uri": "https://localhost:8080/",
     "height": 585
    },
    "id": "_jnUeDBd0LYv",
    "outputId": "49bc70df-1db8-4ff0-e827-ededcf2490f9"
   },
   "outputs": [
    {
     "data": {
      "text/html": [
       "<div>\n",
       "<style scoped>\n",
       "    .dataframe tbody tr th:only-of-type {\n",
       "        vertical-align: middle;\n",
       "    }\n",
       "\n",
       "    .dataframe tbody tr th {\n",
       "        vertical-align: top;\n",
       "    }\n",
       "\n",
       "    .dataframe thead th {\n",
       "        text-align: right;\n",
       "    }\n",
       "</style>\n",
       "<table border=\"1\" class=\"dataframe\">\n",
       "  <thead>\n",
       "    <tr style=\"text-align: right;\">\n",
       "      <th></th>\n",
       "      <th>Unnamed: 0</th>\n",
       "      <th>Composition</th>\n",
       "      <th>VEC</th>\n",
       "      <th>Electronegativity_Difference</th>\n",
       "      <th>Atomic_Radius_Diff</th>\n",
       "      <th>Mixing_Enthalpy</th>\n",
       "      <th>Mixing_Entropy</th>\n",
       "      <th>E/A</th>\n",
       "      <th>EWF</th>\n",
       "      <th>Mod_Mismatch</th>\n",
       "      <th>...</th>\n",
       "      <th>Cu</th>\n",
       "      <th>Zn</th>\n",
       "      <th>Zr</th>\n",
       "      <th>Nb</th>\n",
       "      <th>Mo</th>\n",
       "      <th>Sn</th>\n",
       "      <th>Hf</th>\n",
       "      <th>Ta</th>\n",
       "      <th>W</th>\n",
       "      <th>HV</th>\n",
       "    </tr>\n",
       "  </thead>\n",
       "  <tbody>\n",
       "    <tr>\n",
       "      <th>0</th>\n",
       "      <td>0</td>\n",
       "      <td>Al0.017 Cu0.328 Mn0.328 Ni0.328</td>\n",
       "      <td>9.225774</td>\n",
       "      <td>0.167533</td>\n",
       "      <td>3.617080</td>\n",
       "      <td>-0.934897</td>\n",
       "      <td>9.694725</td>\n",
       "      <td>1.102947</td>\n",
       "      <td>9817.125366</td>\n",
       "      <td>-0.023559</td>\n",
       "      <td>...</td>\n",
       "      <td>0.327672</td>\n",
       "      <td>0.0</td>\n",
       "      <td>0.0</td>\n",
       "      <td>0.0</td>\n",
       "      <td>0.0</td>\n",
       "      <td>0.0</td>\n",
       "      <td>0.0</td>\n",
       "      <td>0.0</td>\n",
       "      <td>0.0</td>\n",
       "      <td>166.0</td>\n",
       "    </tr>\n",
       "    <tr>\n",
       "      <th>1</th>\n",
       "      <td>1</td>\n",
       "      <td>Al0.020 Co0.196 Cr0.196 Fe0.196 Mn0.196 Ni0.196</td>\n",
       "      <td>7.900000</td>\n",
       "      <td>0.138701</td>\n",
       "      <td>3.702726</td>\n",
       "      <td>-5.265344</td>\n",
       "      <td>13.929121</td>\n",
       "      <td>1.081360</td>\n",
       "      <td>10013.078072</td>\n",
       "      <td>-0.022279</td>\n",
       "      <td>...</td>\n",
       "      <td>0.000000</td>\n",
       "      <td>0.0</td>\n",
       "      <td>0.0</td>\n",
       "      <td>0.0</td>\n",
       "      <td>0.0</td>\n",
       "      <td>0.0</td>\n",
       "      <td>0.0</td>\n",
       "      <td>0.0</td>\n",
       "      <td>0.0</td>\n",
       "      <td>180.0</td>\n",
       "    </tr>\n",
       "    <tr>\n",
       "      <th>2</th>\n",
       "      <td>2</td>\n",
       "      <td>Al0.020 Co0.196 Cr0.196 Fe0.196 Mn0.196 Ni0.196</td>\n",
       "      <td>7.900000</td>\n",
       "      <td>0.138701</td>\n",
       "      <td>3.702726</td>\n",
       "      <td>-5.265344</td>\n",
       "      <td>13.929121</td>\n",
       "      <td>1.081360</td>\n",
       "      <td>10013.078072</td>\n",
       "      <td>-0.022279</td>\n",
       "      <td>...</td>\n",
       "      <td>0.000000</td>\n",
       "      <td>0.0</td>\n",
       "      <td>0.0</td>\n",
       "      <td>0.0</td>\n",
       "      <td>0.0</td>\n",
       "      <td>0.0</td>\n",
       "      <td>0.0</td>\n",
       "      <td>0.0</td>\n",
       "      <td>0.0</td>\n",
       "      <td>432.0</td>\n",
       "    </tr>\n",
       "    <tr>\n",
       "      <th>3</th>\n",
       "      <td>3</td>\n",
       "      <td>Al0.024 Co0.244 Cr0.244 Fe0.244 Ni0.244</td>\n",
       "      <td>8.124000</td>\n",
       "      <td>0.100790</td>\n",
       "      <td>2.285452</td>\n",
       "      <td>-5.024448</td>\n",
       "      <td>12.191045</td>\n",
       "      <td>1.087280</td>\n",
       "      <td>11858.093680</td>\n",
       "      <td>-0.026248</td>\n",
       "      <td>...</td>\n",
       "      <td>0.000000</td>\n",
       "      <td>0.0</td>\n",
       "      <td>0.0</td>\n",
       "      <td>0.0</td>\n",
       "      <td>0.0</td>\n",
       "      <td>0.0</td>\n",
       "      <td>0.0</td>\n",
       "      <td>0.0</td>\n",
       "      <td>0.0</td>\n",
       "      <td>118.0</td>\n",
       "    </tr>\n",
       "    <tr>\n",
       "      <th>4</th>\n",
       "      <td>4</td>\n",
       "      <td>Al0.032 Co0.242 Cr0.161 Fe0.161 Ni0.242 Ti0.161</td>\n",
       "      <td>7.599600</td>\n",
       "      <td>0.139458</td>\n",
       "      <td>6.452588</td>\n",
       "      <td>-16.947298</td>\n",
       "      <td>13.965469</td>\n",
       "      <td>1.128138</td>\n",
       "      <td>11400.968816</td>\n",
       "      <td>-0.043780</td>\n",
       "      <td>...</td>\n",
       "      <td>0.000000</td>\n",
       "      <td>0.0</td>\n",
       "      <td>0.0</td>\n",
       "      <td>0.0</td>\n",
       "      <td>0.0</td>\n",
       "      <td>0.0</td>\n",
       "      <td>0.0</td>\n",
       "      <td>0.0</td>\n",
       "      <td>0.0</td>\n",
       "      <td>717.0</td>\n",
       "    </tr>\n",
       "  </tbody>\n",
       "</table>\n",
       "<p>5 rows × 41 columns</p>\n",
       "</div>"
      ],
      "text/plain": [
       "   Unnamed: 0                                       Composition       VEC  \\\n",
       "0           0                  Al0.017 Cu0.328 Mn0.328 Ni0.328   9.225774   \n",
       "1           1  Al0.020 Co0.196 Cr0.196 Fe0.196 Mn0.196 Ni0.196   7.900000   \n",
       "2           2  Al0.020 Co0.196 Cr0.196 Fe0.196 Mn0.196 Ni0.196   7.900000   \n",
       "3           3          Al0.024 Co0.244 Cr0.244 Fe0.244 Ni0.244   8.124000   \n",
       "4           4  Al0.032 Co0.242 Cr0.161 Fe0.161 Ni0.242 Ti0.161   7.599600   \n",
       "\n",
       "   Electronegativity_Difference  Atomic_Radius_Diff  Mixing_Enthalpy  \\\n",
       "0                      0.167533            3.617080        -0.934897   \n",
       "1                      0.138701            3.702726        -5.265344   \n",
       "2                      0.138701            3.702726        -5.265344   \n",
       "3                      0.100790            2.285452        -5.024448   \n",
       "4                      0.139458            6.452588       -16.947298   \n",
       "\n",
       "   Mixing_Entropy       E/A           EWF  Mod_Mismatch  ...        Cu   Zn  \\\n",
       "0        9.694725  1.102947   9817.125366     -0.023559  ...  0.327672  0.0   \n",
       "1       13.929121  1.081360  10013.078072     -0.022279  ...  0.000000  0.0   \n",
       "2       13.929121  1.081360  10013.078072     -0.022279  ...  0.000000  0.0   \n",
       "3       12.191045  1.087280  11858.093680     -0.026248  ...  0.000000  0.0   \n",
       "4       13.965469  1.128138  11400.968816     -0.043780  ...  0.000000  0.0   \n",
       "\n",
       "    Zr   Nb   Mo   Sn   Hf   Ta    W     HV  \n",
       "0  0.0  0.0  0.0  0.0  0.0  0.0  0.0  166.0  \n",
       "1  0.0  0.0  0.0  0.0  0.0  0.0  0.0  180.0  \n",
       "2  0.0  0.0  0.0  0.0  0.0  0.0  0.0  432.0  \n",
       "3  0.0  0.0  0.0  0.0  0.0  0.0  0.0  118.0  \n",
       "4  0.0  0.0  0.0  0.0  0.0  0.0  0.0  717.0  \n",
       "\n",
       "[5 rows x 41 columns]"
      ]
     },
     "execution_count": 3,
     "metadata": {},
     "output_type": "execute_result"
    }
   ],
   "source": [
    "# load data\n",
    "dataset = pd.read_csv('database_for_tensorflow.csv')\n",
    "dataset.head()"
   ]
  },
  {
   "cell_type": "code",
   "execution_count": 4,
   "metadata": {
    "colab": {
     "base_uri": "https://localhost:8080/"
    },
    "id": "S9TleC7G0LYx",
    "outputId": "69c0c31b-4c2c-482e-b428-bf7f8dd1c03d"
   },
   "outputs": [
    {
     "name": "stdout",
     "output_type": "stream",
     "text": [
      "<class 'pandas.core.frame.DataFrame'>\n",
      "RangeIndex: 601 entries, 0 to 600\n",
      "Data columns (total 41 columns):\n",
      " #   Column                        Non-Null Count  Dtype  \n",
      "---  ------                        --------------  -----  \n",
      " 0   Unnamed: 0                    601 non-null    int64  \n",
      " 1   Composition                   601 non-null    object \n",
      " 2   VEC                           601 non-null    float64\n",
      " 3   Electronegativity_Difference  601 non-null    float64\n",
      " 4   Atomic_Radius_Diff            601 non-null    float64\n",
      " 5   Mixing_Enthalpy               601 non-null    float64\n",
      " 6   Mixing_Entropy                601 non-null    float64\n",
      " 7   E/A                           600 non-null    float64\n",
      " 8   EWF                           601 non-null    float64\n",
      " 9   Mod_Mismatch                  584 non-null    float64\n",
      " 10  DeltaG                        584 non-null    float64\n",
      " 11  ShearModG                     584 non-null    float64\n",
      " 12  Tm                            601 non-null    float64\n",
      " 13  Ec                            601 non-null    float64\n",
      " 14  Cond__AC                      601 non-null    int64  \n",
      " 15  Cond__AM                      601 non-null    int64  \n",
      " 16  Cond__HM                      601 non-null    int64  \n",
      " 17  Cond__PM                      601 non-null    int64  \n",
      " 18  Cond__WR                      601 non-null    int64  \n",
      " 19  Li                            601 non-null    float64\n",
      " 20  Mg                            601 non-null    float64\n",
      " 21  Al                            601 non-null    float64\n",
      " 22  Si                            601 non-null    float64\n",
      " 23  Sc                            601 non-null    float64\n",
      " 24  Ti                            601 non-null    float64\n",
      " 25  V                             601 non-null    float64\n",
      " 26  Cr                            601 non-null    float64\n",
      " 27  Mn                            601 non-null    float64\n",
      " 28  Fe                            601 non-null    float64\n",
      " 29  Ni                            601 non-null    float64\n",
      " 30  Co                            601 non-null    float64\n",
      " 31  Cu                            601 non-null    float64\n",
      " 32  Zn                            601 non-null    float64\n",
      " 33  Zr                            601 non-null    float64\n",
      " 34  Nb                            601 non-null    float64\n",
      " 35  Mo                            601 non-null    float64\n",
      " 36  Sn                            601 non-null    float64\n",
      " 37  Hf                            601 non-null    float64\n",
      " 38  Ta                            601 non-null    float64\n",
      " 39  W                             601 non-null    float64\n",
      " 40  HV                            601 non-null    float64\n",
      "dtypes: float64(34), int64(6), object(1)\n",
      "memory usage: 192.6+ KB\n"
     ]
    }
   ],
   "source": [
    "dataset.info()"
   ]
  },
  {
   "cell_type": "code",
   "execution_count": 5,
   "metadata": {
    "colab": {
     "base_uri": "https://localhost:8080/"
    },
    "id": "jNemtma50LYx",
    "outputId": "cf370554-50fd-4c01-db90-455dad06156b"
   },
   "outputs": [
    {
     "data": {
      "text/plain": [
       "VEC                              0\n",
       "Electronegativity_Difference     0\n",
       "Atomic_Radius_Diff               0\n",
       "Mixing_Enthalpy                  0\n",
       "Mixing_Entropy                   0\n",
       "E/A                              1\n",
       "EWF                              0\n",
       "DeltaG                          17\n",
       "ShearModG                       17\n",
       "Tm                               0\n",
       "Cond__AC                         0\n",
       "Cond__AM                         0\n",
       "Cond__HM                         0\n",
       "Cond__PM                         0\n",
       "Cond__WR                         0\n",
       "Li                               0\n",
       "Mg                               0\n",
       "Al                               0\n",
       "Si                               0\n",
       "Sc                               0\n",
       "Ti                               0\n",
       "V                                0\n",
       "Cr                               0\n",
       "Mn                               0\n",
       "Fe                               0\n",
       "Ni                               0\n",
       "Co                               0\n",
       "Cu                               0\n",
       "Zn                               0\n",
       "Zr                               0\n",
       "Nb                               0\n",
       "Mo                               0\n",
       "Sn                               0\n",
       "Hf                               0\n",
       "Ta                               0\n",
       "W                                0\n",
       "HV                               0\n",
       "dtype: int64"
      ]
     },
     "execution_count": 5,
     "metadata": {},
     "output_type": "execute_result"
    }
   ],
   "source": [
    "# Remove unnecessary columns\n",
    "\n",
    "dataset = dataset.drop('Composition', axis=1)\n",
    "dataset = dataset.drop('Unnamed: 0', axis=1)\n",
    "\n",
    "dataset = dataset.drop('Ec', axis=1)\n",
    "dataset = dataset.drop('Mod_Mismatch', axis=1)\n",
    "\n",
    "dataset.isna().sum()"
   ]
  },
  {
   "cell_type": "code",
   "execution_count": 6,
   "metadata": {
    "id": "app8roqS0LYx"
   },
   "outputs": [],
   "source": [
    "# Remove rows with missing values\n",
    "dataset = dataset.dropna()"
   ]
  },
  {
   "cell_type": "code",
   "execution_count": 7,
   "metadata": {
    "colab": {
     "base_uri": "https://localhost:8080/",
     "height": 215
    },
    "id": "8-LqrzZM0LYy",
    "outputId": "b70c10de-484e-415a-a621-eba03652625f"
   },
   "outputs": [
    {
     "data": {
      "text/html": [
       "<div>\n",
       "<style scoped>\n",
       "    .dataframe tbody tr th:only-of-type {\n",
       "        vertical-align: middle;\n",
       "    }\n",
       "\n",
       "    .dataframe tbody tr th {\n",
       "        vertical-align: top;\n",
       "    }\n",
       "\n",
       "    .dataframe thead th {\n",
       "        text-align: right;\n",
       "    }\n",
       "</style>\n",
       "<table border=\"1\" class=\"dataframe\">\n",
       "  <thead>\n",
       "    <tr style=\"text-align: right;\">\n",
       "      <th></th>\n",
       "      <th>VEC</th>\n",
       "      <th>Electronegativity_Difference</th>\n",
       "      <th>Atomic_Radius_Diff</th>\n",
       "      <th>Mixing_Enthalpy</th>\n",
       "      <th>Mixing_Entropy</th>\n",
       "      <th>E/A</th>\n",
       "      <th>EWF</th>\n",
       "      <th>DeltaG</th>\n",
       "      <th>ShearModG</th>\n",
       "      <th>Tm</th>\n",
       "      <th>...</th>\n",
       "      <th>Cu</th>\n",
       "      <th>Zn</th>\n",
       "      <th>Zr</th>\n",
       "      <th>Nb</th>\n",
       "      <th>Mo</th>\n",
       "      <th>Sn</th>\n",
       "      <th>Hf</th>\n",
       "      <th>Ta</th>\n",
       "      <th>W</th>\n",
       "      <th>HV</th>\n",
       "    </tr>\n",
       "  </thead>\n",
       "  <tbody>\n",
       "    <tr>\n",
       "      <th>596</th>\n",
       "      <td>4.333333</td>\n",
       "      <td>0.115758</td>\n",
       "      <td>5.037290</td>\n",
       "      <td>2.666667</td>\n",
       "      <td>9.134370</td>\n",
       "      <td>1.316667</td>\n",
       "      <td>5701.485090</td>\n",
       "      <td>0.013762</td>\n",
       "      <td>38.333333</td>\n",
       "      <td>2266.333333</td>\n",
       "      <td>...</td>\n",
       "      <td>0.00</td>\n",
       "      <td>0.0</td>\n",
       "      <td>0.333333</td>\n",
       "      <td>0.333333</td>\n",
       "      <td>0.0</td>\n",
       "      <td>0.0</td>\n",
       "      <td>0.0</td>\n",
       "      <td>0.000000</td>\n",
       "      <td>0.0</td>\n",
       "      <td>295.0</td>\n",
       "    </tr>\n",
       "    <tr>\n",
       "      <th>597</th>\n",
       "      <td>4.625000</td>\n",
       "      <td>0.084104</td>\n",
       "      <td>3.841219</td>\n",
       "      <td>2.125000</td>\n",
       "      <td>10.982476</td>\n",
       "      <td>1.358750</td>\n",
       "      <td>6008.283194</td>\n",
       "      <td>0.081874</td>\n",
       "      <td>46.625000</td>\n",
       "      <td>2594.000000</td>\n",
       "      <td>...</td>\n",
       "      <td>0.00</td>\n",
       "      <td>0.0</td>\n",
       "      <td>0.125000</td>\n",
       "      <td>0.375000</td>\n",
       "      <td>0.0</td>\n",
       "      <td>0.0</td>\n",
       "      <td>0.0</td>\n",
       "      <td>0.250000</td>\n",
       "      <td>0.0</td>\n",
       "      <td>294.0</td>\n",
       "    </tr>\n",
       "    <tr>\n",
       "      <th>598</th>\n",
       "      <td>8.940000</td>\n",
       "      <td>0.088188</td>\n",
       "      <td>2.632617</td>\n",
       "      <td>-1.670400</td>\n",
       "      <td>13.487136</td>\n",
       "      <td>1.094200</td>\n",
       "      <td>12193.944527</td>\n",
       "      <td>0.047403</td>\n",
       "      <td>68.060000</td>\n",
       "      <td>1713.533000</td>\n",
       "      <td>...</td>\n",
       "      <td>0.18</td>\n",
       "      <td>0.0</td>\n",
       "      <td>0.000000</td>\n",
       "      <td>0.000000</td>\n",
       "      <td>0.0</td>\n",
       "      <td>0.0</td>\n",
       "      <td>0.0</td>\n",
       "      <td>0.000000</td>\n",
       "      <td>0.0</td>\n",
       "      <td>541.0</td>\n",
       "    </tr>\n",
       "    <tr>\n",
       "      <th>599</th>\n",
       "      <td>4.333333</td>\n",
       "      <td>0.091043</td>\n",
       "      <td>5.015884</td>\n",
       "      <td>1.777778</td>\n",
       "      <td>9.134370</td>\n",
       "      <td>1.400000</td>\n",
       "      <td>5567.914722</td>\n",
       "      <td>0.095797</td>\n",
       "      <td>48.666667</td>\n",
       "      <td>2442.333333</td>\n",
       "      <td>...</td>\n",
       "      <td>0.00</td>\n",
       "      <td>0.0</td>\n",
       "      <td>0.333333</td>\n",
       "      <td>0.000000</td>\n",
       "      <td>0.0</td>\n",
       "      <td>0.0</td>\n",
       "      <td>0.0</td>\n",
       "      <td>0.333333</td>\n",
       "      <td>0.0</td>\n",
       "      <td>485.0</td>\n",
       "    </tr>\n",
       "    <tr>\n",
       "      <th>600</th>\n",
       "      <td>6.800000</td>\n",
       "      <td>0.150013</td>\n",
       "      <td>7.461999</td>\n",
       "      <td>-26.400000</td>\n",
       "      <td>13.381611</td>\n",
       "      <td>1.478000</td>\n",
       "      <td>10135.337998</td>\n",
       "      <td>0.129356</td>\n",
       "      <td>60.600000</td>\n",
       "      <td>1633.650000</td>\n",
       "      <td>...</td>\n",
       "      <td>0.00</td>\n",
       "      <td>0.0</td>\n",
       "      <td>0.000000</td>\n",
       "      <td>0.000000</td>\n",
       "      <td>0.0</td>\n",
       "      <td>0.0</td>\n",
       "      <td>0.0</td>\n",
       "      <td>0.000000</td>\n",
       "      <td>0.0</td>\n",
       "      <td>816.0</td>\n",
       "    </tr>\n",
       "  </tbody>\n",
       "</table>\n",
       "<p>5 rows × 37 columns</p>\n",
       "</div>"
      ],
      "text/plain": [
       "          VEC  Electronegativity_Difference  Atomic_Radius_Diff  \\\n",
       "596  4.333333                      0.115758            5.037290   \n",
       "597  4.625000                      0.084104            3.841219   \n",
       "598  8.940000                      0.088188            2.632617   \n",
       "599  4.333333                      0.091043            5.015884   \n",
       "600  6.800000                      0.150013            7.461999   \n",
       "\n",
       "     Mixing_Enthalpy  Mixing_Entropy       E/A           EWF    DeltaG  \\\n",
       "596         2.666667        9.134370  1.316667   5701.485090  0.013762   \n",
       "597         2.125000       10.982476  1.358750   6008.283194  0.081874   \n",
       "598        -1.670400       13.487136  1.094200  12193.944527  0.047403   \n",
       "599         1.777778        9.134370  1.400000   5567.914722  0.095797   \n",
       "600       -26.400000       13.381611  1.478000  10135.337998  0.129356   \n",
       "\n",
       "     ShearModG           Tm  ...    Cu   Zn        Zr        Nb   Mo   Sn  \\\n",
       "596  38.333333  2266.333333  ...  0.00  0.0  0.333333  0.333333  0.0  0.0   \n",
       "597  46.625000  2594.000000  ...  0.00  0.0  0.125000  0.375000  0.0  0.0   \n",
       "598  68.060000  1713.533000  ...  0.18  0.0  0.000000  0.000000  0.0  0.0   \n",
       "599  48.666667  2442.333333  ...  0.00  0.0  0.333333  0.000000  0.0  0.0   \n",
       "600  60.600000  1633.650000  ...  0.00  0.0  0.000000  0.000000  0.0  0.0   \n",
       "\n",
       "      Hf        Ta    W     HV  \n",
       "596  0.0  0.000000  0.0  295.0  \n",
       "597  0.0  0.250000  0.0  294.0  \n",
       "598  0.0  0.000000  0.0  541.0  \n",
       "599  0.0  0.333333  0.0  485.0  \n",
       "600  0.0  0.000000  0.0  816.0  \n",
       "\n",
       "[5 rows x 37 columns]"
      ]
     },
     "execution_count": 7,
     "metadata": {},
     "output_type": "execute_result"
    }
   ],
   "source": [
    "dataset.tail()"
   ]
  },
  {
   "cell_type": "code",
   "execution_count": 8,
   "metadata": {
    "colab": {
     "base_uri": "https://localhost:8080/"
    },
    "id": "UXJ_gxF70LYy",
    "outputId": "9e1a4e4a-54cc-442c-d990-f0489648f313",
    "scrolled": true
   },
   "outputs": [
    {
     "name": "stdout",
     "output_type": "stream",
     "text": [
      "<class 'pandas.core.frame.DataFrame'>\n",
      "Int64Index: 583 entries, 0 to 600\n",
      "Data columns (total 37 columns):\n",
      " #   Column                        Non-Null Count  Dtype  \n",
      "---  ------                        --------------  -----  \n",
      " 0   VEC                           583 non-null    float64\n",
      " 1   Electronegativity_Difference  583 non-null    float64\n",
      " 2   Atomic_Radius_Diff            583 non-null    float64\n",
      " 3   Mixing_Enthalpy               583 non-null    float64\n",
      " 4   Mixing_Entropy                583 non-null    float64\n",
      " 5   E/A                           583 non-null    float64\n",
      " 6   EWF                           583 non-null    float64\n",
      " 7   DeltaG                        583 non-null    float64\n",
      " 8   ShearModG                     583 non-null    float64\n",
      " 9   Tm                            583 non-null    float64\n",
      " 10  Cond__AC                      583 non-null    int64  \n",
      " 11  Cond__AM                      583 non-null    int64  \n",
      " 12  Cond__HM                      583 non-null    int64  \n",
      " 13  Cond__PM                      583 non-null    int64  \n",
      " 14  Cond__WR                      583 non-null    int64  \n",
      " 15  Li                            583 non-null    float64\n",
      " 16  Mg                            583 non-null    float64\n",
      " 17  Al                            583 non-null    float64\n",
      " 18  Si                            583 non-null    float64\n",
      " 19  Sc                            583 non-null    float64\n",
      " 20  Ti                            583 non-null    float64\n",
      " 21  V                             583 non-null    float64\n",
      " 22  Cr                            583 non-null    float64\n",
      " 23  Mn                            583 non-null    float64\n",
      " 24  Fe                            583 non-null    float64\n",
      " 25  Ni                            583 non-null    float64\n",
      " 26  Co                            583 non-null    float64\n",
      " 27  Cu                            583 non-null    float64\n",
      " 28  Zn                            583 non-null    float64\n",
      " 29  Zr                            583 non-null    float64\n",
      " 30  Nb                            583 non-null    float64\n",
      " 31  Mo                            583 non-null    float64\n",
      " 32  Sn                            583 non-null    float64\n",
      " 33  Hf                            583 non-null    float64\n",
      " 34  Ta                            583 non-null    float64\n",
      " 35  W                             583 non-null    float64\n",
      " 36  HV                            583 non-null    float64\n",
      "dtypes: float64(32), int64(5)\n",
      "memory usage: 173.1 KB\n"
     ]
    }
   ],
   "source": [
    "dataset.info()"
   ]
  },
  {
   "cell_type": "code",
   "execution_count": 9,
   "metadata": {
    "id": "5BRnXICx0LYy"
   },
   "outputs": [],
   "source": [
    "# Split data into X and y\n",
    "y = dataset['HV']\n",
    "X = dataset.drop(['HV'], axis=1)\n",
    "\n",
    "#The two following lines could be used to select only part of the columns: \n",
    "#X = dataset[['VEC','E/A', 'Ec', 'Mixing_Entropy', 'EWF', 'Mod_Mismatch', 'Mixing_Enthalpy', 'Atomic_Radius_Diff', 'Electronegativity_Difference',\n",
    "#           'Cond__PM', 'Cond__AC',  'Cond__AM', 'Cond__HM', 'Cond__WR']]\n",
    "\n",
    "# Split data into train and test set\n",
    "X_train, X_test, y_train, y_test = train_test_split(X, y, \n",
    "                                                    test_size= 0.25, \n",
    "                                                    random_state=42)\n",
    "\n",
    "#Applying standard scaling to get optimized result\n",
    "sc = StandardScaler()\n",
    "X_train = sc.fit_transform(X_train)\n",
    "X_test = sc.transform(X_test)\n",
    "\n",
    "#The following line can be used to save the standarscaler:\n",
    "#dump(sc, open('/Scaler/scaler.pkl', 'wb'))"
   ]
  },
  {
   "cell_type": "code",
   "execution_count": 10,
   "metadata": {
    "id": "wHndywQq0LYy"
   },
   "outputs": [],
   "source": [
    "# Function to build the model\n",
    "def build_model(n_hidden=1, n_neurons=30, learning_rate=3e-3, input_shape=[17], reg_l2=0.01, dropout=0.2):\n",
    "    model = keras.Sequential()\n",
    "    options = {\"input_shape\": input_shape}\n",
    "    model.add(keras.Input(shape=(len(X.keys()))))\n",
    "    for layer in range(n_hidden):\n",
    "        model.add(layers.Dense(n_neurons, kernel_regularizer=regularizers.l2(reg_l2), \n",
    "                 activation='elu'))\n",
    "        model.add(layers.Dropout(dropout))\n",
    "        options = {}\n",
    "    model.add(keras.layers.Dense(1, **options))\n",
    "    optimizer = tf.keras.optimizers.Adam(learning_rate)\n",
    "    model.compile(loss='mse',\n",
    "                optimizer=optimizer,\n",
    "                metrics=['mae', 'mse'])\n",
    "    return model"
   ]
  },
  {
   "cell_type": "markdown",
   "metadata": {},
   "source": [
    "# Inicial training"
   ]
  },
  {
   "cell_type": "code",
   "execution_count": 11,
   "metadata": {
    "id": "BhaNizQH0LYy"
   },
   "outputs": [],
   "source": [
    "model = build_model(n_hidden=3, n_neurons=50, learning_rate=0.0005, reg_l2=0.0001, dropout=0.2)"
   ]
  },
  {
   "cell_type": "code",
   "execution_count": 12,
   "metadata": {
    "colab": {
     "base_uri": "https://localhost:8080/"
    },
    "id": "T43QsAJE0LYy",
    "outputId": "311f25ba-a5c4-4f43-afb2-8242b63843c3",
    "scrolled": false
   },
   "outputs": [
    {
     "name": "stdout",
     "output_type": "stream",
     "text": [
      "Model: \"sequential\"\n",
      "_________________________________________________________________\n",
      "Layer (type)                 Output Shape              Param #   \n",
      "=================================================================\n",
      "dense (Dense)                (None, 50)                1850      \n",
      "_________________________________________________________________\n",
      "dropout (Dropout)            (None, 50)                0         \n",
      "_________________________________________________________________\n",
      "dense_1 (Dense)              (None, 50)                2550      \n",
      "_________________________________________________________________\n",
      "dropout_1 (Dropout)          (None, 50)                0         \n",
      "_________________________________________________________________\n",
      "dense_2 (Dense)              (None, 50)                2550      \n",
      "_________________________________________________________________\n",
      "dropout_2 (Dropout)          (None, 50)                0         \n",
      "_________________________________________________________________\n",
      "dense_3 (Dense)              (None, 1)                 51        \n",
      "=================================================================\n",
      "Total params: 7,001\n",
      "Trainable params: 7,001\n",
      "Non-trainable params: 0\n",
      "_________________________________________________________________\n"
     ]
    }
   ],
   "source": [
    "model.summary()"
   ]
  },
  {
   "cell_type": "code",
   "execution_count": 13,
   "metadata": {
    "colab": {
     "base_uri": "https://localhost:8080/"
    },
    "id": "9OZJu3My0LYy",
    "outputId": "b0f2812d-b1a0-4065-84ec-ab51984c8704",
    "scrolled": true
   },
   "outputs": [
    {
     "name": "stdout",
     "output_type": "stream",
     "text": [
      "\n",
      "Epoch: 0, loss:278237.8125,  mae:483.7858,  mse:278237.7812,  val_loss:245181.2969,  val_mae:449.0780,  val_mse:245181.2656,  \n",
      "....................................................................................................\n",
      "Epoch: 100, loss:11338.9902,  mae:82.7789,  mse:11338.9473,  val_loss:10284.8555,  val_mae:72.3639,  val_mse:10284.8164,  \n",
      "....................................................................................................\n",
      "Epoch: 200, loss:10258.4736,  mae:79.0732,  mse:10258.4209,  val_loss:9403.2598,  val_mae:66.5514,  val_mse:9403.2061,  \n",
      "....................................................................................................\n",
      "Epoch: 300, loss:8446.6758,  mae:73.8855,  mse:8446.6104,  val_loss:9653.5527,  val_mae:67.5267,  val_mse:9653.4883,  \n",
      "....................................................................................................\n",
      "Epoch: 400, loss:7276.0063,  mae:63.5554,  mse:7275.9336,  val_loss:8482.4990,  val_mae:64.7309,  val_mse:8482.4287,  \n",
      "....................................................................................................\n",
      "Epoch: 500, loss:5927.7935,  mae:58.3537,  mse:5927.7212,  val_loss:7306.0283,  val_mae:60.4549,  val_mse:7305.9561,  \n",
      "....................................................................................................\n",
      "Epoch: 600, loss:6300.8677,  mae:60.9781,  mse:6300.7915,  val_loss:7232.2505,  val_mae:60.2061,  val_mse:7232.1738,  \n",
      "....................................................................................................\n",
      "Epoch: 700, loss:7023.7544,  mae:63.8827,  mse:7023.6714,  val_loss:6744.3301,  val_mae:57.4776,  val_mse:6744.2485,  \n",
      "....................................................................................................\n",
      "Epoch: 800, loss:5602.2290,  mae:57.3284,  mse:5602.1445,  val_loss:6600.7046,  val_mae:57.5489,  val_mse:6600.6230,  \n",
      "....................................................................................................\n",
      "Epoch: 900, loss:5382.8633,  mae:54.6704,  mse:5382.7783,  val_loss:6797.5669,  val_mae:59.3736,  val_mse:6797.4814,  \n",
      "....................................................................................................\n",
      "Epoch: 1000, loss:5263.3135,  mae:56.2204,  mse:5263.2227,  val_loss:6565.6143,  val_mae:56.9576,  val_mse:6565.5234,  \n",
      "....................................................................................................\n",
      "Epoch: 1100, loss:5538.4219,  mae:57.1443,  mse:5538.3301,  val_loss:6193.0503,  val_mae:54.7650,  val_mse:6192.9565,  \n",
      "....................................................................................................\n",
      "Epoch: 1200, loss:4925.3232,  mae:53.8825,  mse:4925.2290,  val_loss:6317.3145,  val_mae:54.6088,  val_mse:6317.2202,  \n",
      "....................................................................................................\n",
      "Epoch: 1300, loss:5163.7021,  mae:53.9091,  mse:5163.6055,  val_loss:6515.6860,  val_mae:54.9655,  val_mse:6515.5879,  \n",
      "....................................................................................................\n",
      "Epoch: 1400, loss:4465.1191,  mae:51.6713,  mse:4465.0195,  val_loss:6086.0825,  val_mae:51.9912,  val_mse:6085.9824,  \n",
      "....................................................................................................\n",
      "Epoch: 1500, loss:4659.1230,  mae:51.7880,  mse:4659.0210,  val_loss:6233.9849,  val_mae:53.2503,  val_mse:6233.8833,  \n",
      "....................................................................................................\n",
      "Epoch: 1600, loss:5301.4492,  mae:53.6725,  mse:5301.3438,  val_loss:6062.7622,  val_mae:52.3785,  val_mse:6062.6582,  \n",
      "....................................................................................................\n",
      "Epoch: 1700, loss:4708.2988,  mae:52.1665,  mse:4708.1938,  val_loss:6521.5923,  val_mae:55.2763,  val_mse:6521.4858,  \n",
      "....................................................................................................\n",
      "Epoch: 1800, loss:4580.8467,  mae:50.4235,  mse:4580.7388,  val_loss:6060.4658,  val_mae:51.8551,  val_mse:6060.3594,  \n",
      "....................................................................................................\n",
      "Epoch: 1900, loss:4590.5220,  mae:51.8163,  mse:4590.4131,  val_loss:5965.3579,  val_mae:51.9269,  val_mse:5965.2495,  \n",
      "....................................................................................................\n",
      "Epoch: 2000, loss:3964.6167,  mae:47.5926,  mse:3964.5051,  val_loss:5991.2109,  val_mae:50.8168,  val_mse:5991.1001,  \n",
      "....................................................................................................\n",
      "Epoch: 2100, loss:3991.6748,  mae:49.7211,  mse:3991.5637,  val_loss:5951.4224,  val_mae:51.3428,  val_mse:5951.3110,  \n",
      "....................................................................................................\n",
      "Epoch: 2200, loss:4028.7915,  mae:48.6042,  mse:4028.6770,  val_loss:6087.1313,  val_mae:50.9770,  val_mse:6087.0171,  \n",
      "....................................................................................................\n",
      "Epoch: 2300, loss:3919.6160,  mae:47.1249,  mse:3919.5007,  val_loss:6156.1484,  val_mae:51.4201,  val_mse:6156.0342,  \n",
      "....................................................................................................\n",
      "Epoch: 2400, loss:4288.1475,  mae:48.9941,  mse:4288.0308,  val_loss:6554.5767,  val_mae:51.9837,  val_mse:6554.4604,  \n",
      "....................................................................................................\n",
      "Epoch: 2500, loss:4374.2930,  mae:50.4259,  mse:4374.1738,  val_loss:6019.2139,  val_mae:50.1982,  val_mse:6019.0972,  \n",
      "....................................................................................................\n",
      "Epoch: 2600, loss:3938.3901,  mae:47.6421,  mse:3938.2712,  val_loss:6608.0356,  val_mae:52.4554,  val_mse:6607.9155,  \n",
      "....................................................................................................\n",
      "Epoch: 2700, loss:3827.9441,  mae:47.3006,  mse:3827.8228,  val_loss:6805.2002,  val_mae:52.0277,  val_mse:6805.0781,  \n",
      "....................................................................................................\n",
      "Epoch: 2800, loss:4244.9023,  mae:48.1886,  mse:4244.7788,  val_loss:6365.2896,  val_mae:50.4126,  val_mse:6365.1660,  \n",
      "....................................................................................................\n",
      "Epoch: 2900, loss:3872.5920,  mae:46.5693,  mse:3872.4680,  val_loss:6425.3545,  val_mae:48.9432,  val_mse:6425.2300,  \n",
      "....................................................................................................\n",
      "Epoch: 3000, loss:3478.1333,  mae:43.4720,  mse:3478.0076,  val_loss:6064.9434,  val_mae:48.1565,  val_mse:6064.8169,  \n",
      "....................................................................................................\n",
      "Epoch: 3100, loss:3537.4961,  mae:45.5237,  mse:3537.3694,  val_loss:6813.7109,  val_mae:51.5713,  val_mse:6813.5830,  \n",
      "....................................................................................................\n",
      "Epoch: 3200, loss:4333.5586,  mae:49.7624,  mse:4333.4312,  val_loss:6355.4092,  val_mae:49.5787,  val_mse:6355.2808,  \n",
      "....................................................................................................\n",
      "Epoch: 3300, loss:3915.5769,  mae:46.1515,  mse:3915.4456,  val_loss:6425.9043,  val_mae:49.0334,  val_mse:6425.7729,  \n",
      "....................................................................................................\n",
      "Epoch: 3400, loss:3739.7700,  mae:46.6484,  mse:3739.6372,  val_loss:6410.3018,  val_mae:49.0325,  val_mse:6410.1685,  \n",
      "....................................................................................................\n",
      "Epoch: 3500, loss:3434.6326,  mae:44.5146,  mse:3434.4978,  val_loss:6543.8403,  val_mae:50.1303,  val_mse:6543.7051,  \n",
      "....................................................................................................\n",
      "Epoch: 3600, loss:3551.6719,  mae:45.5436,  mse:3551.5347,  val_loss:6489.5254,  val_mae:49.7979,  val_mse:6489.3887,  \n",
      "....................................................................................................\n",
      "Epoch: 3700, loss:3471.0957,  mae:43.5984,  mse:3470.9565,  val_loss:6617.8237,  val_mae:49.1350,  val_mse:6617.6841,  \n"
     ]
    },
    {
     "name": "stdout",
     "output_type": "stream",
     "text": [
      "....................................................................................................\n",
      "Epoch: 3800, loss:3280.8818,  mae:44.5884,  mse:3280.7415,  val_loss:6290.2656,  val_mae:47.5246,  val_mse:6290.1255,  \n",
      "....................................................................................................\n",
      "Epoch: 3900, loss:3694.7439,  mae:46.5303,  mse:3694.6006,  val_loss:6778.4722,  val_mae:50.0674,  val_mse:6778.3281,  \n",
      "....................................................................................................\n",
      "Epoch: 4000, loss:3334.3833,  mae:42.6712,  mse:3334.2375,  val_loss:6216.3501,  val_mae:47.9921,  val_mse:6216.2051,  \n",
      "....................................................................................................\n",
      "Epoch: 4100, loss:3154.6946,  mae:43.6013,  mse:3154.5481,  val_loss:6207.7529,  val_mae:47.6690,  val_mse:6207.6060,  \n",
      "....................................................................................................\n",
      "Epoch: 4200, loss:3468.2852,  mae:43.8361,  mse:3468.1365,  val_loss:5885.2744,  val_mae:47.0573,  val_mse:5885.1255,  \n",
      "....................................................................................................\n",
      "Epoch: 4300, loss:3379.9990,  mae:44.1468,  mse:3379.8479,  val_loss:6248.0864,  val_mae:48.9235,  val_mse:6247.9360,  \n",
      "....................................................................................................\n",
      "Epoch: 4400, loss:3327.4377,  mae:43.3356,  mse:3327.2854,  val_loss:6079.5732,  val_mae:46.3396,  val_mse:6079.4199,  \n",
      "....................................................................................................\n",
      "Epoch: 4500, loss:3240.5715,  mae:43.6606,  mse:3240.4170,  val_loss:6295.0698,  val_mae:47.4827,  val_mse:6294.9146,  \n",
      "....................................................................................................\n",
      "Epoch: 4600, loss:3705.0767,  mae:47.9725,  mse:3704.9202,  val_loss:6354.5566,  val_mae:48.2145,  val_mse:6354.3989,  \n",
      "....................................................................................................\n",
      "Epoch: 4700, loss:3230.1941,  mae:42.1088,  mse:3230.0359,  val_loss:6151.7095,  val_mae:46.6250,  val_mse:6151.5503,  \n",
      "....................................................................................................\n",
      "Epoch: 4800, loss:3424.7493,  mae:43.9835,  mse:3424.5874,  val_loss:5936.8481,  val_mae:45.9733,  val_mse:5936.6870,  \n",
      "....................................................................................................\n",
      "Epoch: 4900, loss:2977.2676,  mae:41.7733,  mse:2977.1045,  val_loss:5947.6543,  val_mae:45.4793,  val_mse:5947.4912,  \n",
      "....................................................................................................\n",
      "Epoch: 5000, loss:3102.9592,  mae:41.7529,  mse:3102.7939,  val_loss:6218.5425,  val_mae:47.5191,  val_mse:6218.3794,  \n",
      "....................................................................................................\n",
      "Epoch: 5100, loss:3413.5608,  mae:44.5960,  mse:3413.3936,  val_loss:6744.0464,  val_mae:50.9376,  val_mse:6743.8784,  \n",
      "....................................................................................................\n",
      "Epoch: 5200, loss:3093.4204,  mae:42.7907,  mse:3093.2522,  val_loss:6076.2578,  val_mae:46.7139,  val_mse:6076.0894,  \n",
      "....................................................................................................\n",
      "Epoch: 5300, loss:3558.0125,  mae:44.5408,  mse:3557.8411,  val_loss:6283.0605,  val_mae:46.9744,  val_mse:6282.8892,  \n",
      "....................................................................................................\n",
      "Epoch: 5400, loss:3233.8169,  mae:43.4475,  mse:3233.6433,  val_loss:5592.7783,  val_mae:45.4105,  val_mse:5592.6045,  \n",
      "....................................................................................................\n",
      "Epoch: 5500, loss:3066.9861,  mae:43.1580,  mse:3066.8096,  val_loss:6114.1157,  val_mae:47.5103,  val_mse:6113.9404,  \n",
      "....................................................................................................\n",
      "Epoch: 5600, loss:3471.5513,  mae:45.1273,  mse:3471.3726,  val_loss:5825.3760,  val_mae:47.0132,  val_mse:5825.1987,  \n",
      "....................................................................................................\n",
      "Epoch: 5700, loss:2820.8928,  mae:41.7221,  mse:2820.7114,  val_loss:5996.6826,  val_mae:46.8873,  val_mse:5996.5020,  \n",
      "....................................................................................................\n",
      "Epoch: 5800, loss:3460.6880,  mae:44.6181,  mse:3460.5071,  val_loss:5764.6372,  val_mae:46.1686,  val_mse:5764.4551,  \n",
      "....................................................................................................\n",
      "Epoch: 5900, loss:3074.7644,  mae:42.9859,  mse:3074.5791,  val_loss:6194.1021,  val_mae:49.7687,  val_mse:6193.9185,  \n",
      "....................................................................................................\n",
      "Epoch: 6000, loss:2906.0676,  mae:41.7154,  mse:2905.8821,  val_loss:6179.2598,  val_mae:48.7262,  val_mse:6179.0747,  \n",
      "....................................................................................................\n",
      "Epoch: 6100, loss:2601.5156,  mae:38.2315,  mse:2601.3276,  val_loss:5976.7158,  val_mae:47.0269,  val_mse:5976.5278,  \n",
      "....................................................................................................\n",
      "Epoch: 6200, loss:3862.8796,  mae:46.9031,  mse:3862.6895,  val_loss:6253.8901,  val_mae:47.7429,  val_mse:6253.7002,  \n",
      "....................................................................................................\n",
      "Epoch: 6300, loss:2614.4607,  mae:39.8346,  mse:2614.2688,  val_loss:6148.7139,  val_mae:47.3616,  val_mse:6148.5234,  \n",
      "....................................................................................................\n",
      "Epoch: 6400, loss:2631.4304,  mae:39.4966,  mse:2631.2368,  val_loss:6191.3389,  val_mae:48.4879,  val_mse:6191.1465,  \n",
      "....................................................................................................\n",
      "Epoch: 6500, loss:3239.9546,  mae:43.4236,  mse:3239.7593,  val_loss:6097.6450,  val_mae:46.4683,  val_mse:6097.4482,  \n",
      "....................................................................................................\n",
      "Epoch: 6600, loss:3566.7371,  mae:44.8417,  mse:3566.5393,  val_loss:5949.0737,  val_mae:47.0128,  val_mse:5948.8745,  \n",
      "....................................................................................................\n",
      "Epoch: 6700, loss:3220.8013,  mae:43.7825,  mse:3220.6011,  val_loss:5900.2856,  val_mae:46.5196,  val_mse:5900.0864,  \n",
      "....................................................................................................\n",
      "Epoch: 6800, loss:2869.5461,  mae:40.2569,  mse:2869.3447,  val_loss:6081.5957,  val_mae:48.3381,  val_mse:6081.3940,  \n",
      "....................................................................................................\n",
      "Epoch: 6900, loss:2783.7402,  mae:41.1934,  mse:2783.5364,  val_loss:6045.4717,  val_mae:48.2658,  val_mse:6045.2686,  \n",
      "....................................................................................................\n",
      "Epoch: 7000, loss:3025.1587,  mae:42.1327,  mse:3024.9539,  val_loss:6046.8237,  val_mae:46.4286,  val_mse:6046.6187,  \n",
      "....................................................................................................\n",
      "Epoch: 7100, loss:2840.8350,  mae:39.6107,  mse:2840.6255,  val_loss:5991.8062,  val_mae:46.1379,  val_mse:5991.5981,  \n",
      "....................................................................................................\n",
      "Epoch: 7200, loss:2817.4797,  mae:40.0484,  mse:2817.2695,  val_loss:5787.4150,  val_mae:46.4272,  val_mse:5787.2051,  \n",
      "....................................................................................................\n",
      "Epoch: 7300, loss:3125.0923,  mae:41.8081,  mse:3124.8804,  val_loss:6182.7388,  val_mae:47.7213,  val_mse:6182.5264,  \n",
      "....................................................................................................\n",
      "Epoch: 7400, loss:2870.7051,  mae:40.3174,  mse:2870.4902,  val_loss:5777.5601,  val_mae:46.3623,  val_mse:5777.3457,  \n"
     ]
    },
    {
     "name": "stdout",
     "output_type": "stream",
     "text": [
      "....................................................................................................\n",
      "Epoch: 7500, loss:3270.0054,  mae:43.8288,  mse:3269.7881,  val_loss:6004.1470,  val_mae:46.3976,  val_mse:6003.9292,  \n",
      "....................................................................................................\n",
      "Epoch: 7600, loss:3289.9194,  mae:41.7696,  mse:3289.7002,  val_loss:5716.9048,  val_mae:45.5585,  val_mse:5716.6846,  \n",
      "....................................................................................................\n",
      "Epoch: 7700, loss:3068.1045,  mae:42.2783,  mse:3067.8821,  val_loss:5646.6948,  val_mae:45.0760,  val_mse:5646.4727,  \n",
      "....................................................................................................\n",
      "Epoch: 7800, loss:2924.2981,  mae:41.4052,  mse:2924.0730,  val_loss:5680.6270,  val_mae:46.7374,  val_mse:5680.4028,  \n",
      "....................................................................................................\n",
      "Epoch: 7900, loss:3122.9849,  mae:41.2617,  mse:3122.7590,  val_loss:5379.1597,  val_mae:44.5968,  val_mse:5378.9336,  \n",
      "....................................................................................................\n",
      "Epoch: 8000, loss:2967.0264,  mae:41.0172,  mse:2966.7993,  val_loss:5177.6328,  val_mae:45.3208,  val_mse:5177.4058,  \n",
      "....................................................................................................\n",
      "Epoch: 8100, loss:3500.0330,  mae:43.1582,  mse:3499.8030,  val_loss:5516.1504,  val_mae:46.3781,  val_mse:5515.9199,  \n",
      "....................................................................................................\n",
      "Epoch: 8200, loss:2700.2295,  mae:39.1391,  mse:2699.9983,  val_loss:5715.7837,  val_mae:46.3826,  val_mse:5715.5527,  \n",
      "....................................................................................................\n",
      "Epoch: 8300, loss:2964.2966,  mae:41.1768,  mse:2964.0635,  val_loss:5719.3892,  val_mae:46.1613,  val_mse:5719.1562,  \n",
      "....................................................................................................\n",
      "Epoch: 8400, loss:2943.2249,  mae:41.7405,  mse:2942.9880,  val_loss:5843.2300,  val_mae:45.2303,  val_mse:5842.9937,  \n",
      "....................................................................................................\n",
      "Epoch: 8500, loss:3214.5952,  mae:42.4152,  mse:3214.3572,  val_loss:5470.5630,  val_mae:44.2336,  val_mse:5470.3257,  \n",
      "....................................................................................................\n",
      "Epoch: 8600, loss:3279.9626,  mae:44.0223,  mse:3279.7231,  val_loss:5856.9214,  val_mae:47.2044,  val_mse:5856.6816,  \n",
      "....................................................................................................\n",
      "Epoch: 8700, loss:2747.0642,  mae:38.5446,  mse:2746.8215,  val_loss:5245.1528,  val_mae:43.9984,  val_mse:5244.9106,  \n",
      "....................................................................................................\n",
      "Epoch: 8800, loss:2833.2100,  mae:40.3258,  mse:2832.9648,  val_loss:5495.9150,  val_mae:48.7333,  val_mse:5495.6704,  \n",
      "....................................................................................................\n",
      "Epoch: 8900, loss:2709.7390,  mae:40.2813,  mse:2709.4919,  val_loss:5638.9141,  val_mae:46.3267,  val_mse:5638.6665,  \n",
      "....................................................................................................\n",
      "Epoch: 9000, loss:2983.4021,  mae:40.5374,  mse:2983.1526,  val_loss:5265.2974,  val_mae:45.0160,  val_mse:5265.0483,  \n",
      "....................................................................................................\n",
      "Epoch: 9100, loss:2827.6619,  mae:41.1038,  mse:2827.4106,  val_loss:5327.7495,  val_mae:44.7669,  val_mse:5327.4990,  \n",
      "....................................................................................................\n",
      "Epoch: 9200, loss:3059.6558,  mae:41.4847,  mse:3059.4036,  val_loss:5264.5874,  val_mae:45.1932,  val_mse:5264.3350,  \n",
      "....................................................................................................\n",
      "Epoch: 9300, loss:3167.5857,  mae:42.0915,  mse:3167.3303,  val_loss:5463.0332,  val_mae:45.5711,  val_mse:5462.7793,  \n",
      "....................................................................................................\n",
      "Epoch: 9400, loss:2784.2922,  mae:40.5378,  mse:2784.0344,  val_loss:5496.2778,  val_mae:46.2566,  val_mse:5496.0215,  \n",
      "....................................................................................................\n",
      "Epoch: 9500, loss:2839.1938,  mae:39.4983,  mse:2838.9351,  val_loss:5448.3706,  val_mae:45.4501,  val_mse:5448.1123,  \n",
      "....................................................................................................\n",
      "Epoch: 9600, loss:2995.6221,  mae:40.8923,  mse:2995.3613,  val_loss:5419.5981,  val_mae:45.8850,  val_mse:5419.3364,  \n",
      "....................................................................................................\n",
      "Epoch: 9700, loss:3465.9033,  mae:44.0000,  mse:3465.6404,  val_loss:5350.9136,  val_mae:46.6205,  val_mse:5350.6504,  \n",
      "....................................................................................................\n",
      "Epoch: 9800, loss:2576.7390,  mae:38.3777,  mse:2576.4731,  val_loss:5811.8940,  val_mae:47.8139,  val_mse:5811.6294,  \n",
      "....................................................................................................\n",
      "Epoch: 9900, loss:2936.0056,  mae:40.9090,  mse:2935.7375,  val_loss:5378.9136,  val_mae:45.2619,  val_mse:5378.6465,  \n",
      "...................................................................................................."
     ]
    }
   ],
   "source": [
    "EPOCHS = 10000\n",
    "\n",
    "history = model.fit(\n",
    "  X_train, y_train,\n",
    "  epochs=EPOCHS, validation_split = 0.2, verbose=0,\n",
    "  callbacks=[tfdocs.modeling.EpochDots()], batch_size=5)"
   ]
  },
  {
   "cell_type": "code",
   "execution_count": 14,
   "metadata": {
    "colab": {
     "base_uri": "https://localhost:8080/",
     "height": 195
    },
    "id": "uv60ikYS0LYy",
    "outputId": "6cb44a2f-e48c-4bf4-953e-7535cf530615"
   },
   "outputs": [
    {
     "data": {
      "text/html": [
       "<div>\n",
       "<style scoped>\n",
       "    .dataframe tbody tr th:only-of-type {\n",
       "        vertical-align: middle;\n",
       "    }\n",
       "\n",
       "    .dataframe tbody tr th {\n",
       "        vertical-align: top;\n",
       "    }\n",
       "\n",
       "    .dataframe thead th {\n",
       "        text-align: right;\n",
       "    }\n",
       "</style>\n",
       "<table border=\"1\" class=\"dataframe\">\n",
       "  <thead>\n",
       "    <tr style=\"text-align: right;\">\n",
       "      <th></th>\n",
       "      <th>loss</th>\n",
       "      <th>mae</th>\n",
       "      <th>mse</th>\n",
       "      <th>val_loss</th>\n",
       "      <th>val_mae</th>\n",
       "      <th>val_mse</th>\n",
       "      <th>epoch</th>\n",
       "    </tr>\n",
       "  </thead>\n",
       "  <tbody>\n",
       "    <tr>\n",
       "      <th>9995</th>\n",
       "      <td>3192.944092</td>\n",
       "      <td>43.598122</td>\n",
       "      <td>3192.673828</td>\n",
       "      <td>5508.623535</td>\n",
       "      <td>46.787167</td>\n",
       "      <td>5508.353516</td>\n",
       "      <td>9995</td>\n",
       "    </tr>\n",
       "    <tr>\n",
       "      <th>9996</th>\n",
       "      <td>3217.719482</td>\n",
       "      <td>43.385105</td>\n",
       "      <td>3217.448730</td>\n",
       "      <td>5492.217285</td>\n",
       "      <td>46.708313</td>\n",
       "      <td>5491.947266</td>\n",
       "      <td>9996</td>\n",
       "    </tr>\n",
       "    <tr>\n",
       "      <th>9997</th>\n",
       "      <td>2885.135986</td>\n",
       "      <td>39.592419</td>\n",
       "      <td>2884.864990</td>\n",
       "      <td>5538.256348</td>\n",
       "      <td>46.400879</td>\n",
       "      <td>5537.986328</td>\n",
       "      <td>9997</td>\n",
       "    </tr>\n",
       "    <tr>\n",
       "      <th>9998</th>\n",
       "      <td>3136.214844</td>\n",
       "      <td>43.378754</td>\n",
       "      <td>3135.944824</td>\n",
       "      <td>5439.001953</td>\n",
       "      <td>46.240280</td>\n",
       "      <td>5438.730957</td>\n",
       "      <td>9998</td>\n",
       "    </tr>\n",
       "    <tr>\n",
       "      <th>9999</th>\n",
       "      <td>2771.441406</td>\n",
       "      <td>39.229717</td>\n",
       "      <td>2771.172119</td>\n",
       "      <td>5379.547852</td>\n",
       "      <td>45.847824</td>\n",
       "      <td>5379.277344</td>\n",
       "      <td>9999</td>\n",
       "    </tr>\n",
       "  </tbody>\n",
       "</table>\n",
       "</div>"
      ],
      "text/plain": [
       "             loss        mae          mse     val_loss    val_mae  \\\n",
       "9995  3192.944092  43.598122  3192.673828  5508.623535  46.787167   \n",
       "9996  3217.719482  43.385105  3217.448730  5492.217285  46.708313   \n",
       "9997  2885.135986  39.592419  2884.864990  5538.256348  46.400879   \n",
       "9998  3136.214844  43.378754  3135.944824  5439.001953  46.240280   \n",
       "9999  2771.441406  39.229717  2771.172119  5379.547852  45.847824   \n",
       "\n",
       "          val_mse  epoch  \n",
       "9995  5508.353516   9995  \n",
       "9996  5491.947266   9996  \n",
       "9997  5537.986328   9997  \n",
       "9998  5438.730957   9998  \n",
       "9999  5379.277344   9999  "
      ]
     },
     "execution_count": 14,
     "metadata": {},
     "output_type": "execute_result"
    }
   ],
   "source": [
    "hist = pd.DataFrame(history.history)\n",
    "hist['epoch'] = history.epoch\n",
    "hist.tail()"
   ]
  },
  {
   "cell_type": "code",
   "execution_count": 15,
   "metadata": {
    "id": "ZptWPGl70LYz"
   },
   "outputs": [],
   "source": [
    "plotter = tfdocs.plots.HistoryPlotter(smoothing_std=3)"
   ]
  },
  {
   "cell_type": "code",
   "execution_count": 16,
   "metadata": {
    "colab": {
     "base_uri": "https://localhost:8080/",
     "height": 300
    },
    "id": "KigB9m2v0LYz",
    "outputId": "383e0bff-0f9d-4e8c-c49f-3a8211a98d73"
   },
   "outputs": [
    {
     "data": {
      "text/plain": [
       "Text(0, 0.5, 'MAE [HV]')"
      ]
     },
     "execution_count": 16,
     "metadata": {},
     "output_type": "execute_result"
    },
    {
     "data": {
      "image/png": "[encoded data removed]",
      "text/plain": [
       "<Figure size 432x288 with 1 Axes>"
      ]
     },
     "metadata": {
      "needs_background": "light"
     },
     "output_type": "display_data"
    }
   ],
   "source": [
    "plotter.plot({'Inicial': history}, metric = \"mae\")\n",
    "plt.ylim([0, 150])\n",
    "plt.ylabel('MAE [HV]')"
   ]
  },
  {
   "cell_type": "code",
   "execution_count": 17,
   "metadata": {
    "colab": {
     "base_uri": "https://localhost:8080/",
     "height": 300
    },
    "id": "dA0tBwa_0LYz",
    "outputId": "b6b89a93-862e-46e4-9a8a-b987b994bb09"
   },
   "outputs": [
    {
     "data": {
      "text/plain": [
       "Text(0, 0.5, 'MSE [HV^2]')"
      ]
     },
     "execution_count": 17,
     "metadata": {},
     "output_type": "execute_result"
    },
    {
     "data": {
      "image/png": "[encoded data removed]",
      "text/plain": [
       "<Figure size 432x288 with 1 Axes>"
      ]
     },
     "metadata": {
      "needs_background": "light"
     },
     "output_type": "display_data"
    }
   ],
   "source": [
    "plotter.plot({'Inicial': history}, metric = \"mse\")\n",
    "plt.ylim([1000, 9000])\n",
    "plt.ylabel('MSE [HV^2]')"
   ]
  },
  {
   "cell_type": "code",
   "execution_count": 18,
   "metadata": {},
   "outputs": [
    {
     "name": "stdout",
     "output_type": "stream",
     "text": [
      "5/5 - 0s - loss: 3070.3530 - mae: 39.7926 - mse: 3070.0825\n",
      "Testing set Mean Abs Error: 39.79 HV\n"
     ]
    }
   ],
   "source": [
    "loss, mae, mse = model.evaluate(X_test, y_test, verbose=2)\n",
    "\n",
    "print(\"Testing set Mean Abs Error: {:5.2f} HV\".format(mae))"
   ]
  },
  {
   "cell_type": "code",
   "execution_count": 19,
   "metadata": {},
   "outputs": [
    {
     "data": {
      "image/png": "[encoded data removed]",
      "text/plain": [
       "<Figure size 576x576 with 1 Axes>"
      ]
     },
     "metadata": {
      "needs_background": "light"
     },
     "output_type": "display_data"
    }
   ],
   "source": [
    "test_predictions = model.predict(X_test).flatten()\n",
    "train_predictions = model.predict(X_train).flatten()\n",
    "\n",
    "plt.figure(figsize=(8,8))\n",
    "plt.scatter(y_train, train_predictions, c= 'red', alpha =0.2, label = 'Train data')\n",
    "plt.scatter(y_test, test_predictions, c='black', alpha = 0.7, label = 'Test data')\n",
    "plt.xlabel('True Values [HV]')\n",
    "plt.ylabel('Predictions [HV]')\n",
    "lims = [0, 1200]\n",
    "plt.xlim(lims)\n",
    "plt.ylim(lims)\n",
    "plt.legend(loc=\"upper left\")\n",
    "_ = plt.plot(lims, lims)"
   ]
  },
  {
   "cell_type": "markdown",
   "metadata": {},
   "source": [
    "# Training with early stopping"
   ]
  },
  {
   "cell_type": "code",
   "execution_count": 31,
   "metadata": {
    "colab": {
     "base_uri": "https://localhost:8080/"
    },
    "id": "hpVdUM_g0LYz",
    "outputId": "2ce238d9-3746-413c-9462-15b149485a50",
    "scrolled": false
   },
   "outputs": [
    {
     "name": "stdout",
     "output_type": "stream",
     "text": [
      "\n",
      "Epoch: 0, loss:278511.9688,  mae:484.0410,  mse:278511.9688,  val_loss:245307.2344,  val_mae:449.0973,  val_mse:245307.2344,  \n",
      "....................................................................................................\n",
      "Epoch: 100, loss:13112.7607,  mae:89.7308,  mse:13112.7148,  val_loss:11316.4131,  val_mae:77.6154,  val_mse:11316.3682,  \n",
      "....................................................................................................\n",
      "Epoch: 200, loss:9155.8359,  mae:74.6967,  mse:9155.7754,  val_loss:10496.9521,  val_mae:71.9778,  val_mse:10496.8926,  \n",
      "....................................................................................................\n",
      "Epoch: 300, loss:9172.2695,  mae:73.2169,  mse:9172.1992,  val_loss:10286.8135,  val_mae:69.7858,  val_mse:10286.7451,  \n",
      "....................................................................................................\n",
      "Epoch: 400, loss:9432.6289,  mae:75.4532,  mse:9432.5566,  val_loss:9428.3916,  val_mae:65.5021,  val_mse:9428.3164,  \n",
      "....................................................................................................\n",
      "Epoch: 500, loss:7562.3271,  mae:68.7404,  mse:7562.2480,  val_loss:9131.3320,  val_mae:65.4888,  val_mse:9131.2529,  \n",
      "....................................................................................................\n",
      "Epoch: 600, loss:7446.3618,  mae:66.0171,  mse:7446.2773,  val_loss:9257.8154,  val_mae:65.2415,  val_mse:9257.7295,  \n",
      "....................................................................................................\n",
      "Epoch: 700, loss:7499.3589,  mae:66.3349,  mse:7499.2700,  val_loss:8597.3623,  val_mae:61.5427,  val_mse:8597.2725,  \n",
      "....................................................................................................\n",
      "Epoch: 800, loss:6259.4741,  mae:61.8471,  mse:6259.3804,  val_loss:8993.9209,  val_mae:61.4200,  val_mse:8993.8242,  \n",
      "....................................................................................................\n",
      "Epoch: 900, loss:5731.0913,  mae:58.4441,  mse:5730.9912,  val_loss:7751.8623,  val_mae:57.5729,  val_mse:7751.7622,  \n",
      "....................................................................................................\n",
      "Epoch: 1000, loss:6382.6167,  mae:58.6781,  mse:6382.5142,  val_loss:7065.9546,  val_mae:55.1401,  val_mse:7065.8516,  \n",
      "....................................................................................................\n",
      "Epoch: 1100, loss:6123.3838,  mae:57.5023,  mse:6123.2778,  val_loss:6796.2939,  val_mae:54.8633,  val_mse:6796.1880,  \n",
      "....................................................................................................\n",
      "Epoch: 1200, loss:5482.3765,  mae:57.5662,  mse:5482.2661,  val_loss:6650.5859,  val_mae:55.8453,  val_mse:6650.4766,  \n",
      "....................................................................................................\n",
      "Epoch: 1300, loss:5848.8154,  mae:56.1456,  mse:5848.7031,  val_loss:6411.6484,  val_mae:54.3328,  val_mse:6411.5371,  \n",
      "....................................................................................................\n",
      "Epoch: 1400, loss:5699.5088,  mae:58.3065,  mse:5699.3955,  val_loss:6193.5923,  val_mae:53.4293,  val_mse:6193.4795,  \n",
      "....................................................................................................\n",
      "Epoch: 1500, loss:4937.4360,  mae:53.4926,  mse:4937.3208,  val_loss:5944.5049,  val_mae:51.9338,  val_mse:5944.3892,  \n",
      "....................................................................................................\n",
      "Epoch: 1600, loss:4723.3589,  mae:52.9430,  mse:4723.2427,  val_loss:6236.5464,  val_mae:51.2640,  val_mse:6236.4302,  \n",
      "....................................................................................................\n",
      "Epoch: 1700, loss:4028.9993,  mae:48.0442,  mse:4028.8804,  val_loss:6138.2847,  val_mae:51.8626,  val_mse:6138.1646,  \n",
      "....................................................................................................\n",
      "Epoch: 1800, loss:4226.6782,  mae:51.0373,  mse:4226.5571,  val_loss:5905.6821,  val_mae:50.8325,  val_mse:5905.5610,  \n",
      "....................................................................................................\n",
      "Epoch: 1900, loss:4242.0942,  mae:49.7274,  mse:4241.9702,  val_loss:5728.6479,  val_mae:50.2915,  val_mse:5728.5229,  \n",
      "....................................................................................................\n",
      "Epoch: 2000, loss:4651.3423,  mae:53.2381,  mse:4651.2163,  val_loss:5686.2573,  val_mae:50.4124,  val_mse:5686.1309,  \n",
      "....................................................................................................\n",
      "Epoch: 2100, loss:4020.0454,  mae:49.2804,  mse:4019.9172,  val_loss:5943.6519,  val_mae:52.8594,  val_mse:5943.5249,  \n",
      "....................................................................................................\n",
      "Epoch: 2200, loss:4612.7534,  mae:51.0861,  mse:4612.6221,  val_loss:5354.8213,  val_mae:48.1245,  val_mse:5354.6924,  \n",
      "....................................................................................................\n",
      "Epoch: 2300, loss:4291.0200,  mae:49.4717,  mse:4290.8872,  val_loss:6312.2090,  val_mae:53.1956,  val_mse:6312.0776,  \n",
      "....................................................................................................\n",
      "Epoch: 2400, loss:4512.9624,  mae:50.5483,  mse:4512.8296,  val_loss:5167.7778,  val_mae:48.9884,  val_mse:5167.6445,  \n",
      "....................................................................................................\n",
      "Epoch: 2500, loss:4020.9546,  mae:48.1283,  mse:4020.8184,  val_loss:5421.3623,  val_mae:48.0191,  val_mse:5421.2280,  \n",
      "....................................................................................................\n",
      "Epoch: 2600, loss:3868.0918,  mae:48.0783,  mse:3867.9531,  val_loss:5338.9263,  val_mae:48.2823,  val_mse:5338.7881,  \n",
      "....................................................................................................\n",
      "Epoch: 2700, loss:4196.6172,  mae:50.3877,  mse:4196.4780,  val_loss:5524.2231,  val_mae:47.5654,  val_mse:5524.0840,  \n",
      "....................................................................................................\n",
      "Epoch: 2800, loss:4351.0688,  mae:50.6968,  mse:4350.9277,  val_loss:5459.6265,  val_mae:47.2251,  val_mse:5459.4854,  \n",
      "....................................................................................................\n",
      "Epoch: 2900, loss:4330.0781,  mae:49.4099,  mse:4329.9346,  val_loss:5285.3828,  val_mae:47.2184,  val_mse:5285.2402,  \n",
      "....................................................................................................\n",
      "Epoch: 3000, loss:3995.4312,  mae:50.1124,  mse:3995.2869,  val_loss:5561.3848,  val_mae:49.3829,  val_mse:5561.2417,  \n",
      "....................................................................................................\n",
      "Epoch: 3100, loss:4229.5137,  mae:50.3938,  mse:4229.3677,  val_loss:5550.3979,  val_mae:47.1006,  val_mse:5550.2524,  \n",
      "....................................................................................................\n",
      "Epoch: 3200, loss:4158.9995,  mae:51.2613,  mse:4158.8521,  val_loss:5740.1509,  val_mae:48.9444,  val_mse:5740.0039,  \n",
      "....................................................................................................\n",
      "Epoch: 3300, loss:4416.1025,  mae:49.8325,  mse:4415.9536,  val_loss:5619.9312,  val_mae:47.5826,  val_mse:5619.7808,  \n",
      "....................................................................................................\n",
      "Epoch: 3400, loss:3761.5520,  mae:48.2530,  mse:3761.4004,  val_loss:5387.4409,  val_mae:46.1154,  val_mse:5387.2900,  \n",
      "....................................................................................................\n",
      "Epoch: 3500, loss:3982.6111,  mae:48.2356,  mse:3982.4578,  val_loss:5423.8291,  val_mae:46.3293,  val_mse:5423.6768,  \n",
      "................................................................"
     ]
    }
   ],
   "source": [
    "esmodel = build_model(n_hidden=3, n_neurons=50, learning_rate=0.0005, reg_l2=0.0001, dropout=0.2)\n",
    "\n",
    "MAX_EPOCHS = 10000\n",
    "\n",
    "# Early stop callback\n",
    "early_stop = keras.callbacks.EarlyStopping(monitor='val_loss', patience=1000)\n",
    "\n",
    "early_history = esmodel.fit(X_train, y_train, \n",
    "                    epochs=MAX_EPOCHS, validation_split = 0.2, verbose=0, \n",
    "                    callbacks=[early_stop, tfdocs.modeling.EpochDots()],\n",
    "                         batch_size = 5)"
   ]
  },
  {
   "cell_type": "code",
   "execution_count": 32,
   "metadata": {
    "colab": {
     "base_uri": "https://localhost:8080/",
     "height": 296
    },
    "id": "mHb19Muj0LYz",
    "outputId": "cf36660b-a5f4-41c2-e9c2-1cd9bc56bc39"
   },
   "outputs": [
    {
     "data": {
      "text/plain": [
       "Text(0, 0.5, 'MAE [HV]')"
      ]
     },
     "execution_count": 32,
     "metadata": {},
     "output_type": "execute_result"
    },
    {
     "data": {
      "image/png": "[encoded data removed]",
      "text/plain": [
       "<Figure size 432x288 with 1 Axes>"
      ]
     },
     "metadata": {
      "needs_background": "light"
     },
     "output_type": "display_data"
    }
   ],
   "source": [
    "plotter.plot({'Early Stopping': early_history}, metric = \"mae\")\n",
    "plt.ylim([20, 170])\n",
    "plt.ylabel('MAE [HV]')"
   ]
  },
  {
   "cell_type": "code",
   "execution_count": 33,
   "metadata": {
    "colab": {
     "base_uri": "https://localhost:8080/",
     "height": 300
    },
    "id": "SZU0-USx55eI",
    "outputId": "da80bf18-8162-4f8d-8f74-2a6bd5df1836"
   },
   "outputs": [
    {
     "data": {
      "text/plain": [
       "Text(0, 0.5, 'MSE [HV]')"
      ]
     },
     "execution_count": 33,
     "metadata": {},
     "output_type": "execute_result"
    },
    {
     "data": {
      "image/png": "[encoded data removed]",
      "text/plain": [
       "<Figure size 432x288 with 1 Axes>"
      ]
     },
     "metadata": {
      "needs_background": "light"
     },
     "output_type": "display_data"
    }
   ],
   "source": [
    "plotter.plot({'Early Stopping': early_history}, metric = \"mse\")\n",
    "plt.ylim([2000, 8000])\n",
    "plt.ylabel('MSE [HV]')"
   ]
  },
  {
   "cell_type": "code",
   "execution_count": 34,
   "metadata": {
    "colab": {
     "base_uri": "https://localhost:8080/"
    },
    "id": "RMec0I6x0LYz",
    "outputId": "8c816c14-af84-41c2-afad-f0ad428d83f6"
   },
   "outputs": [
    {
     "name": "stdout",
     "output_type": "stream",
     "text": [
      "5/5 - 0s - loss: 3499.1929 - mae: 43.5191 - mse: 3499.0396\n",
      "Testing set Mean Abs Error: 43.52 HV\n"
     ]
    }
   ],
   "source": [
    "loss, mae, mse = esmodel.evaluate(X_test, y_test, verbose=2)\n",
    "\n",
    "print(\"Testing set Mean Abs Error: {:5.2f} HV\".format(mae))"
   ]
  },
  {
   "cell_type": "code",
   "execution_count": 35,
   "metadata": {
    "colab": {
     "base_uri": "https://localhost:8080/",
     "height": 501
    },
    "id": "dhXDXrCx0LYz",
    "outputId": "5ffb6699-05db-4631-be77-1d7f45e2123a",
    "scrolled": false
   },
   "outputs": [
    {
     "data": {
      "image/png": "[encoded data removed]",
      "text/plain": [
       "<Figure size 576x576 with 1 Axes>"
      ]
     },
     "metadata": {
      "needs_background": "light"
     },
     "output_type": "display_data"
    }
   ],
   "source": [
    "test_predictions = esmodel.predict(X_test).flatten()\n",
    "train_predictions = esmodel.predict(X_train).flatten()\n",
    "\n",
    "plt.figure(figsize=(8,8))\n",
    "plt.scatter(y_train, train_predictions, c= 'red', alpha =0.2, label = 'Train data')\n",
    "plt.scatter(y_test, test_predictions, c='black', alpha = 0.7, label = 'Test data')\n",
    "plt.xlabel('True Values [HV]')\n",
    "plt.ylabel('Predictions [HV]')\n",
    "lims = [0, 1200]\n",
    "plt.xlim(lims)\n",
    "plt.ylim(lims)\n",
    "plt.legend(loc=\"upper left\")\n",
    "_ = plt.plot(lims, lims)"
   ]
  },
  {
   "cell_type": "code",
   "execution_count": 25,
   "metadata": {},
   "outputs": [],
   "source": [
    "pandas_test = pd.DataFrame(list(zip(y_test, test_predictions )), columns = ['X', 'y'])\n",
    "pandas_train = pd.DataFrame(list(zip(y_train, train_predictions)), columns = ['X', 'y'])"
   ]
  },
  {
   "cell_type": "code",
   "execution_count": 26,
   "metadata": {},
   "outputs": [],
   "source": [
    "pandas_test.to_csv('test_data.csv')\n",
    "pandas_train.to_csv('train_data.csv')"
   ]
  },
  {
   "cell_type": "markdown",
   "metadata": {
    "id": "6A2Rq7fCk-1T"
   },
   "source": [
    "# Saving model"
   ]
  },
  {
   "cell_type": "code",
   "execution_count": 108,
   "metadata": {},
   "outputs": [
    {
     "name": "stdout",
     "output_type": "stream",
     "text": [
      "WARNING:tensorflow:From C:\\Users\\Fernando\\miniconda3\\lib\\site-packages\\tensorflow\\python\\training\\tracking\\tracking.py:111: Model.state_updates (from tensorflow.python.keras.engine.training) is deprecated and will be removed in a future version.\n",
      "Instructions for updating:\n",
      "This property should not be used in TensorFlow 2.0, as updates are applied automatically.\n",
      "WARNING:tensorflow:From C:\\Users\\Fernando\\miniconda3\\lib\\site-packages\\tensorflow\\python\\training\\tracking\\tracking.py:111: Layer.updates (from tensorflow.python.keras.engine.base_layer) is deprecated and will be removed in a future version.\n",
      "Instructions for updating:\n",
      "This property should not be used in TensorFlow 2.0, as updates are applied automatically.\n",
      "INFO:tensorflow:Assets written to: /saved_model/my_model\\assets\n"
     ]
    }
   ],
   "source": [
    "#Choose between early stopping model or initial training\n",
    "model.save('/saved_model/my_model')"
   ]
  },
  {
   "cell_type": "markdown",
   "metadata": {},
   "source": [
    "# Keras tuner "
   ]
  },
  {
   "cell_type": "code",
   "execution_count": 36,
   "metadata": {},
   "outputs": [],
   "source": [
    "import kerastuner as kt"
   ]
  },
  {
   "cell_type": "code",
   "execution_count": 86,
   "metadata": {},
   "outputs": [],
   "source": [
    "# deixar apenas relu e elu para simplificar. antes era values=['relu', 'tanh', 'sigmoid', 'elu'],\n",
    "from kerastuner import HyperModel\n",
    "class RegressionHyperModel(HyperModel):\n",
    "    def __init__(self, input_shape):\n",
    "        self.input_shape = input_shape\n",
    "    def build(self, hp):\n",
    "        model = keras.Sequential()\n",
    "        for i in range(hp.Int('num_layers', 1, 5)):\n",
    "            model.add(\n",
    "                layers.Dense(\n",
    "                    units=hp.Int('units_' + str(i), min_value = 40, max_value = 200, step = 10),\n",
    "                    kernel_regularizer=regularizers.l2(hp.Choice('reg_value', [0.0001,0.001,0.005,0.01,0.1,0.05])),\n",
    "                    activation=hp.Choice(\n",
    "                        'dense_activation',\n",
    "                        values=['relu', 'elu'],\n",
    "                        default='elu'),\n",
    "                    input_shape=input_shape\n",
    "                )\n",
    "            )\n",
    "        \n",
    "            model.add(\n",
    "                layers.Dropout(\n",
    "                    hp.Float(\n",
    "                        'dropout',\n",
    "                        min_value=0.0,\n",
    "                        max_value=0.4,\n",
    "                        default=0.005,\n",
    "                        step=0.05)\n",
    "                )\n",
    "            )\n",
    "            \n",
    "        model.add(layers.Dense(1))\n",
    "        \n",
    "        hp_learning_rate = hp.Choice('learning_rate', values = [1e-2, 1e-3, 1e-4, 1e-5]) \n",
    "        optimizer = keras.optimizers.Adam(hp_learning_rate)\n",
    "        model.compile(loss='mse',\n",
    "                optimizer=optimizer,\n",
    "                metrics=['mae', 'mse'])\n",
    "        \n",
    "        return model"
   ]
  },
  {
   "cell_type": "code",
   "execution_count": 87,
   "metadata": {},
   "outputs": [],
   "source": [
    "input_shape = (len(X.keys()),)\n",
    "hypermodel = RegressionHyperModel(input_shape)"
   ]
  },
  {
   "cell_type": "code",
   "execution_count": 88,
   "metadata": {},
   "outputs": [],
   "source": [
    "import IPython\n",
    "\n",
    "class ClearTrainingOutput(tf.keras.callbacks.Callback):\n",
    "    def on_train_end(*args, **kwargs):\n",
    "        IPython.display.clear_output(wait = True)\n",
    "        \n",
    "early_stop_tuner = keras.callbacks.EarlyStopping(monitor='val_loss', patience=500)        "
   ]
  },
  {
   "cell_type": "code",
   "execution_count": 89,
   "metadata": {
    "scrolled": true
   },
   "outputs": [
    {
     "name": "stdout",
     "output_type": "stream",
     "text": [
      "Trial 50 Complete [00h 16m 10s]\n",
      "val_mse: 5495.55029296875\n",
      "\n",
      "Best val_mse So Far: 4155.42578125\n",
      "Total elapsed time: 10h 40m 19s\n",
      "INFO:tensorflow:Oracle triggered exit\n",
      "5/5 [==============================] - 0s 2ms/step - loss: 3015.7827 - mae: 38.9287 - mse: 2904.2571\n"
     ]
    },
    {
     "data": {
      "text/plain": [
       "[3015.78271484375, 38.92869567871094, 2904.257080078125]"
      ]
     },
     "execution_count": 89,
     "metadata": {},
     "output_type": "execute_result"
    }
   ],
   "source": [
    "tuner_bo = kt.BayesianOptimization(\n",
    "            hypermodel,\n",
    "            objective='val_mse',\n",
    "            max_trials=50,\n",
    "            seed=42,\n",
    "            num_initial_points=10,\n",
    "            executions_per_trial=2\n",
    "    \n",
    "        )\n",
    "tuner_bo.search(X_train, y_train, epochs=5000, validation_split=0.2, \n",
    "                verbose=1, callbacks = [ClearTrainingOutput(), early_stop_tuner],\n",
    "               batch_size=5)\n",
    "\n",
    "best_model = tuner_bo.get_best_models(num_models=1)[0]\n",
    "best_model.evaluate(X_test, y_test)"
   ]
  },
  {
   "cell_type": "code",
   "execution_count": 90,
   "metadata": {
    "scrolled": true
   },
   "outputs": [
    {
     "name": "stdout",
     "output_type": "stream",
     "text": [
      "WARNING:tensorflow:Unresolved object in checkpoint: (root).optimizer.iter\n",
      "WARNING:tensorflow:Unresolved object in checkpoint: (root).optimizer.beta_1\n",
      "WARNING:tensorflow:Unresolved object in checkpoint: (root).optimizer.beta_2\n",
      "WARNING:tensorflow:Unresolved object in checkpoint: (root).optimizer.decay\n",
      "WARNING:tensorflow:Unresolved object in checkpoint: (root).optimizer.learning_rate\n",
      "WARNING:tensorflow:A checkpoint was restored (e.g. tf.train.Checkpoint.restore or tf.keras.Model.load_weights) but not all checkpointed values were used. See above for specific issues. Use expect_partial() on the load status object, e.g. tf.train.Checkpoint.restore(...).expect_partial(), to silence these warnings, or use assert_consumed() to make the check explicit. See https://www.tensorflow.org/guide/checkpoint#loading_mechanics for details.\n",
      "5/5 [==============================] - 0s 1ms/step - loss: 3015.7827 - mae: 38.9287 - mse: 2904.2571\n",
      "Model: \"sequential\"\n",
      "_________________________________________________________________\n",
      "Layer (type)                 Output Shape              Param #   \n",
      "=================================================================\n",
      "dense (Dense)                (None, 130)               4810      \n",
      "_________________________________________________________________\n",
      "dropout (Dropout)            (None, 130)               0         \n",
      "_________________________________________________________________\n",
      "dense_1 (Dense)              (None, 100)               13100     \n",
      "_________________________________________________________________\n",
      "dropout_1 (Dropout)          (None, 100)               0         \n",
      "_________________________________________________________________\n",
      "dense_2 (Dense)              (None, 60)                6060      \n",
      "_________________________________________________________________\n",
      "dropout_2 (Dropout)          (None, 60)                0         \n",
      "_________________________________________________________________\n",
      "dense_3 (Dense)              (None, 130)               7930      \n",
      "_________________________________________________________________\n",
      "dropout_3 (Dropout)          (None, 130)               0         \n",
      "_________________________________________________________________\n",
      "dense_4 (Dense)              (None, 40)                5240      \n",
      "_________________________________________________________________\n",
      "dropout_4 (Dropout)          (None, 40)                0         \n",
      "_________________________________________________________________\n",
      "dense_5 (Dense)              (None, 1)                 41        \n",
      "=================================================================\n",
      "Total params: 37,181\n",
      "Trainable params: 37,181\n",
      "Non-trainable params: 0\n",
      "_________________________________________________________________\n"
     ]
    }
   ],
   "source": [
    "best_model = tuner_bo.get_best_models(num_models=1)[0]\n",
    "best_model.evaluate(X_test, y_test)\n",
    "best_model.summary()"
   ]
  },
  {
   "cell_type": "code",
   "execution_count": 96,
   "metadata": {},
   "outputs": [
    {
     "data": {
      "text/plain": [
       "5"
      ]
     },
     "execution_count": 96,
     "metadata": {},
     "output_type": "execute_result"
    }
   ],
   "source": [
    "# Get the optimal hyperparameters\n",
    "best_hps = tuner_bo.get_best_hyperparameters(num_trials = 1)[0]\n",
    "\n",
    "best_hps.get('num_layers')"
   ]
  },
  {
   "cell_type": "code",
   "execution_count": 97,
   "metadata": {},
   "outputs": [
    {
     "data": {
      "text/plain": [
       "0.1"
      ]
     },
     "execution_count": 97,
     "metadata": {},
     "output_type": "execute_result"
    }
   ],
   "source": [
    "best_hps.get('dropout')"
   ]
  },
  {
   "cell_type": "code",
   "execution_count": 98,
   "metadata": {},
   "outputs": [
    {
     "data": {
      "text/plain": [
       "0.0001"
      ]
     },
     "execution_count": 98,
     "metadata": {},
     "output_type": "execute_result"
    }
   ],
   "source": [
    "best_hps.get('learning_rate')"
   ]
  },
  {
   "cell_type": "code",
   "execution_count": 99,
   "metadata": {},
   "outputs": [
    {
     "data": {
      "text/plain": [
       "'elu'"
      ]
     },
     "execution_count": 99,
     "metadata": {},
     "output_type": "execute_result"
    }
   ],
   "source": [
    "best_hps.get('dense_activation')"
   ]
  },
  {
   "cell_type": "code",
   "execution_count": 100,
   "metadata": {},
   "outputs": [
    {
     "data": {
      "text/plain": [
       "0.1"
      ]
     },
     "execution_count": 100,
     "metadata": {},
     "output_type": "execute_result"
    }
   ],
   "source": [
    "best_hps.get('reg_value')"
   ]
  },
  {
   "cell_type": "markdown",
   "metadata": {},
   "source": [
    "# Test Keras tuner model"
   ]
  },
  {
   "cell_type": "code",
   "execution_count": 102,
   "metadata": {},
   "outputs": [],
   "source": [
    "# Function to build the model\n",
    "def build_model_test(n_hidden=5, n_neurons= [130, 100, 60, 130, 40], learning_rate=0.001, input_shape=[17], reg_l2=0.005, dropout=0.05):\n",
    "    model = keras.Sequential()\n",
    "    options = {\"input_shape\": input_shape}\n",
    "    model.add(keras.Input(shape=(len(X.keys()))))\n",
    "    for layer in range(n_hidden):\n",
    "        model.add(layers.Dense(n_neurons[layer], kernel_regularizer=regularizers.l2(reg_l2), \n",
    "                 activation='elu'))\n",
    "        model.add(layers.Dropout(dropout))\n",
    "        options = {}\n",
    "    model.add(keras.layers.Dense(1, **options))\n",
    "    optimizer = tf.keras.optimizers.Adam(learning_rate)\n",
    "    model.compile(loss='mse',\n",
    "                optimizer=optimizer,\n",
    "                metrics=['mae', 'mse'])\n",
    "    return model"
   ]
  },
  {
   "cell_type": "code",
   "execution_count": 103,
   "metadata": {
    "scrolled": true
   },
   "outputs": [
    {
     "name": "stdout",
     "output_type": "stream",
     "text": [
      "\n",
      "Epoch: 0, loss:278895.0000,  mae:484.3625,  mse:278856.3750,  val_loss:246416.4062,  val_mae:450.1873,  val_mse:246377.7344,  \n",
      "....................................................................................................\n",
      "Epoch: 100, loss:9839.9531,  mae:77.5541,  mse:9790.2314,  val_loss:8522.4736,  val_mae:68.8936,  val_mse:8472.8057,  \n",
      "....................................................................................................\n",
      "Epoch: 200, loss:6856.8711,  mae:64.3541,  mse:6803.2573,  val_loss:7849.8438,  val_mae:64.8115,  val_mse:7796.1738,  \n",
      "....................................................................................................\n",
      "Epoch: 300, loss:6290.3286,  mae:60.9603,  mse:6233.3032,  val_loss:7072.9707,  val_mae:60.1902,  val_mse:7015.8545,  \n",
      "....................................................................................................\n",
      "Epoch: 400, loss:5373.0249,  mae:57.1065,  mse:5312.0098,  val_loss:6298.4824,  val_mae:56.7683,  val_mse:6237.5137,  \n",
      "....................................................................................................\n",
      "Epoch: 500, loss:4486.0693,  mae:53.8386,  mse:4421.2192,  val_loss:6021.4780,  val_mae:55.0828,  val_mse:5956.6929,  \n",
      "....................................................................................................\n",
      "Epoch: 600, loss:4354.1377,  mae:50.2184,  mse:4285.6377,  val_loss:6068.8354,  val_mae:53.8486,  val_mse:6000.3198,  \n",
      "....................................................................................................\n",
      "Epoch: 700, loss:3814.1895,  mae:48.6345,  mse:3742.4233,  val_loss:5551.6958,  val_mae:50.9927,  val_mse:5479.9448,  \n",
      "....................................................................................................\n",
      "Epoch: 800, loss:4195.7427,  mae:49.1890,  mse:4120.6299,  val_loss:5609.4902,  val_mae:50.1141,  val_mse:5534.3564,  \n",
      "....................................................................................................\n",
      "Epoch: 900, loss:3787.2991,  mae:47.0454,  mse:3709.1475,  val_loss:5970.8325,  val_mae:50.2852,  val_mse:5892.7202,  \n",
      "....................................................................................................\n",
      "Epoch: 1000, loss:3825.9509,  mae:46.8266,  mse:3745.0598,  val_loss:5470.7544,  val_mae:47.7283,  val_mse:5389.7969,  \n",
      "....................................................................................................\n",
      "Epoch: 1100, loss:3543.9771,  mae:44.9038,  mse:3460.6428,  val_loss:5347.4331,  val_mae:47.2416,  val_mse:5264.0879,  \n",
      "....................................................................................................\n",
      "Epoch: 1200, loss:3225.0452,  mae:42.4467,  mse:3139.7593,  val_loss:4980.6504,  val_mae:45.0861,  val_mse:4895.3003,  \n",
      "....................................................................................................\n",
      "Epoch: 1300, loss:3154.4148,  mae:42.5007,  mse:3067.1189,  val_loss:4976.1191,  val_mae:45.5087,  val_mse:4888.8535,  \n",
      "....................................................................................................\n",
      "Epoch: 1400, loss:2984.6172,  mae:40.8770,  mse:2895.5364,  val_loss:4986.9214,  val_mae:46.5889,  val_mse:4897.7461,  \n",
      "....................................................................................................\n",
      "Epoch: 1500, loss:3128.7078,  mae:41.5931,  mse:3037.7698,  val_loss:4821.4946,  val_mae:45.3283,  val_mse:4730.5078,  \n",
      "....................................................................................................\n",
      "Epoch: 1600, loss:3142.4810,  mae:40.9397,  mse:3049.9668,  val_loss:4728.0923,  val_mae:45.3786,  val_mse:4635.6685,  \n",
      "....................................................................................................\n",
      "Epoch: 1700, loss:2989.6689,  mae:39.6551,  mse:2895.5640,  val_loss:4532.5234,  val_mae:44.4030,  val_mse:4438.5630,  \n",
      "....................................................................................................\n",
      "Epoch: 1800, loss:3174.4409,  mae:42.3242,  mse:3079.2478,  val_loss:4681.9277,  val_mae:44.1910,  val_mse:4586.7480,  \n",
      "....................................................................................................\n",
      "Epoch: 1900, loss:3015.8596,  mae:39.9221,  mse:2919.2256,  val_loss:4696.0352,  val_mae:44.7040,  val_mse:4599.3486,  \n",
      "....................................................................................................\n",
      "Epoch: 2000, loss:2884.6479,  mae:39.0751,  mse:2786.9133,  val_loss:4518.2339,  val_mae:43.2346,  val_mse:4420.5664,  \n",
      "....................................................................................................\n",
      "Epoch: 2100, loss:2491.2712,  mae:36.7513,  mse:2392.3760,  val_loss:4248.4980,  val_mae:42.1583,  val_mse:4149.5796,  \n",
      "....................................................................................................\n",
      "Epoch: 2200, loss:2724.7129,  mae:38.9859,  mse:2624.9019,  val_loss:4645.6670,  val_mae:43.9735,  val_mse:4545.8345,  \n",
      "....................................................................................................\n",
      "Epoch: 2300, loss:2742.2830,  mae:38.2632,  mse:2641.2175,  val_loss:4550.8027,  val_mae:43.4121,  val_mse:4449.8398,  \n",
      "....................................................................................................\n",
      "Epoch: 2400, loss:2672.2617,  mae:37.6910,  mse:2570.4773,  val_loss:4150.8442,  val_mae:42.2318,  val_mse:4049.1062,  \n",
      "....................................................................................................\n",
      "Epoch: 2500, loss:2704.7249,  mae:38.5970,  mse:2601.9692,  val_loss:4460.7012,  val_mae:42.2446,  val_mse:4357.9844,  \n",
      "....................................................................................................\n",
      "Epoch: 2600, loss:2428.8560,  mae:35.2283,  mse:2325.6680,  val_loss:4655.7583,  val_mae:43.1886,  val_mse:4552.5005,  \n",
      "....................................................................................................\n",
      "Epoch: 2700, loss:2570.0793,  mae:38.7536,  mse:2466.0933,  val_loss:4563.1021,  val_mae:42.8385,  val_mse:4459.0449,  \n",
      "....................................................................................................\n",
      "Epoch: 2800, loss:2501.2839,  mae:36.0865,  mse:2396.5232,  val_loss:4471.1987,  val_mae:42.0923,  val_mse:4366.3711,  \n",
      "....................................................................................................\n",
      "Epoch: 2900, loss:2647.5078,  mae:37.7806,  mse:2542.2327,  val_loss:4435.9082,  val_mae:42.4477,  val_mse:4330.6348,  \n",
      "....................................................................................................\n",
      "Epoch: 3000, loss:2083.7664,  mae:34.2810,  mse:1977.8007,  val_loss:4343.0684,  val_mae:42.7604,  val_mse:4237.1025,  \n",
      "....................................................................................................\n",
      "Epoch: 3100, loss:2513.1543,  mae:36.1722,  mse:2406.5200,  val_loss:4273.5386,  val_mae:42.3191,  val_mse:4166.9697,  \n",
      "....................................................................................................\n",
      "Epoch: 3200, loss:2996.1501,  mae:39.1812,  mse:2889.1108,  val_loss:4179.6240,  val_mae:41.9894,  val_mse:4072.5283,  \n",
      "....................................................................................................\n",
      "Epoch: 3300, loss:2612.0154,  mae:36.8756,  mse:2504.3760,  val_loss:4311.5747,  val_mae:41.1436,  val_mse:4203.8735,  \n",
      "....................................................................................................\n",
      "Epoch: 3400, loss:2270.1138,  mae:34.1993,  mse:2162.0149,  val_loss:4480.3628,  val_mae:43.1791,  val_mse:4372.2485,  \n",
      "....................................................................................................\n",
      "Epoch: 3500, loss:2325.5493,  mae:36.0847,  mse:2216.8169,  val_loss:4328.1299,  val_mae:42.4162,  val_mse:4219.4399,  \n",
      "....................................................................................................\n",
      "Epoch: 3600, loss:2570.6011,  mae:38.0424,  mse:2461.4646,  val_loss:4297.5278,  val_mae:41.9997,  val_mse:4188.3950,  \n",
      "....................................................................................................\n",
      "Epoch: 3700, loss:2350.8098,  mae:34.3493,  mse:2241.2256,  val_loss:4236.5732,  val_mae:40.6335,  val_mse:4126.9873,  \n"
     ]
    },
    {
     "name": "stdout",
     "output_type": "stream",
     "text": [
      "....................................................................................................\n",
      "Epoch: 3800, loss:2282.0481,  mae:34.7551,  mse:2172.1233,  val_loss:4397.7017,  val_mae:41.8194,  val_mse:4287.6777,  \n",
      "....................................................................................................\n",
      "Epoch: 3900, loss:2337.4238,  mae:35.1361,  mse:2227.0339,  val_loss:4311.4800,  val_mae:41.8973,  val_mse:4201.0649,  \n",
      "....................................................................................................\n",
      "Epoch: 4000, loss:2220.3662,  mae:34.3740,  mse:2109.6333,  val_loss:4314.6055,  val_mae:41.6598,  val_mse:4203.9937,  \n",
      "....................................................................................................\n",
      "Epoch: 4100, loss:2050.5984,  mae:32.3122,  mse:1939.6852,  val_loss:4548.1855,  val_mae:42.4494,  val_mse:4437.2656,  \n",
      "................................."
     ]
    }
   ],
   "source": [
    "test_model = build_model_test(n_hidden=5, n_neurons= [130, 100, 60, 130, 40], \n",
    "                              learning_rate=0.0001, input_shape=[17], reg_l2=0.1, \n",
    "                              dropout=0.1)\n",
    "\n",
    "MAX_EPOCHS_test = 5000\n",
    "\n",
    "# Early stop callback\n",
    "early_stop_test = keras.callbacks.EarlyStopping(monitor='val_loss', patience=500)\n",
    "\n",
    "early_history_test = test_model.fit(X_train, y_train, \n",
    "                    epochs=MAX_EPOCHS_test, validation_split = 0.2, verbose=0, \n",
    "                    callbacks=[early_stop_test, tfdocs.modeling.EpochDots()],\n",
    "                         batch_size = 5)"
   ]
  },
  {
   "cell_type": "code",
   "execution_count": 104,
   "metadata": {},
   "outputs": [
    {
     "data": {
      "text/plain": [
       "Text(0, 0.5, 'MAE [HV]')"
      ]
     },
     "execution_count": 104,
     "metadata": {},
     "output_type": "execute_result"
    },
    {
     "data": {
      "image/png": "[encoded data removed]",
      "text/plain": [
       "<Figure size 432x288 with 1 Axes>"
      ]
     },
     "metadata": {
      "needs_background": "light"
     },
     "output_type": "display_data"
    }
   ],
   "source": [
    "plotter_test = tfdocs.plots.HistoryPlotter(smoothing_std=3)\n",
    "plotter_test.plot({'Early Stopping': early_history_test}, metric = \"mae\")\n",
    "plt.ylim([20, 170])\n",
    "plt.ylabel('MAE [HV]')"
   ]
  },
  {
   "cell_type": "code",
   "execution_count": 105,
   "metadata": {},
   "outputs": [
    {
     "data": {
      "text/plain": [
       "Text(0, 0.5, 'MSE [HV]')"
      ]
     },
     "execution_count": 105,
     "metadata": {},
     "output_type": "execute_result"
    },
    {
     "data": {
      "image/png": "[encoded data removed]",
      "text/plain": [
       "<Figure size 432x288 with 1 Axes>"
      ]
     },
     "metadata": {
      "needs_background": "light"
     },
     "output_type": "display_data"
    }
   ],
   "source": [
    "plotter_test.plot({'Early Stopping': early_history_test}, metric = \"mse\")\n",
    "plt.ylim([1000, 8000])\n",
    "plt.ylabel('MSE [HV]')"
   ]
  },
  {
   "cell_type": "code",
   "execution_count": 106,
   "metadata": {},
   "outputs": [
    {
     "name": "stdout",
     "output_type": "stream",
     "text": [
      "5/5 - 0s - loss: 3483.1980 - mae: 41.5486 - mse: 3372.0361\n",
      "Testing set Mean Abs Error: 41.55 HV\n"
     ]
    }
   ],
   "source": [
    "test_loss, test_mae, test_mse = test_model.evaluate(X_test, y_test, verbose=2)\n",
    "\n",
    "print(\"Testing set Mean Abs Error: {:5.2f} HV\".format(test_mae))"
   ]
  },
  {
   "cell_type": "code",
   "execution_count": 101,
   "metadata": {},
   "outputs": [
    {
     "data": {
      "image/png": "[encoded data removed]",
      "text/plain": [
       "<Figure size 576x576 with 1 Axes>"
      ]
     },
     "metadata": {
      "needs_background": "light"
     },
     "output_type": "display_data"
    }
   ],
   "source": [
    "best_test_predictions_test = test_model.predict(X_test).flatten()\n",
    "best_train_predictions_test = test_model.predict(X_train).flatten()\n",
    "\n",
    "\n",
    "plt.figure(figsize=(8,8))\n",
    "plt.scatter(y_train, best_train_predictions_test, c= 'red', alpha =0.2, label = 'Train data')\n",
    "plt.scatter(y_test, best_test_predictions_test, c='black', alpha = 0.7, label = 'Test data')\n",
    "plt.xlabel('True Values [HV]')\n",
    "plt.ylabel('Predictions [HV]')\n",
    "lims = [0, 1200]\n",
    "plt.xlim(lims)\n",
    "plt.ylim(lims)\n",
    "plt.legend(loc=\"upper left\")\n",
    "_ = plt.plot(lims, lims)"
   ]
  }
 ],
 "metadata": {
  "colab": {
   "collapsed_sections": [],
   "name": "Cópia de Cópia de Regression using TensorFlow 2 usando uniao.ipynb",
   "provenance": []
  },
  "kernelspec": {
   "display_name": "Python 3",
   "language": "python",
   "name": "python3"
  },
  "language_info": {
   "codemirror_mode": {
    "name": "ipython",
    "version": 3
   },
   "file_extension": ".py",
   "mimetype": "text/x-python",
   "name": "python",
   "nbconvert_exporter": "python",
   "pygments_lexer": "ipython3",
   "version": "3.7.9"
  }
 },
 "nbformat": 4,
 "nbformat_minor": 1
}
